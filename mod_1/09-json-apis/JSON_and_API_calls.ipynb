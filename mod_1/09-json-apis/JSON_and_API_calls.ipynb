{
 "cells": [
  {
   "cell_type": "markdown",
   "metadata": {},
   "source": [
    "# Using APIs and JSON Data\n",
    "![documentation](https://tyk.io/wp-content/uploads/2017/06/documentation_matrix.jpg)"
   ]
  },
  {
   "cell_type": "markdown",
   "metadata": {},
   "source": [
    "## Objectives\n",
    "You will be able to:\n",
    "* Access and manipulate data inside a JSON file\n",
    "* Pull data from an API and parse/transform the data"
   ]
  },
  {
   "cell_type": "markdown",
   "metadata": {},
   "source": [
    "## Agenda\n",
    "\n",
    "* Review JSON Schemas\n",
    "* Introduce APIs.\n",
    "* Walk through how to make an API request. \n",
    "* Practice making API requests and Parsing the data.\n"
   ]
  },
  {
   "cell_type": "markdown",
   "metadata": {},
   "source": [
    "### What is the difference between a JSON and a python dictionary?"
   ]
  },
  {
   "cell_type": "markdown",
   "metadata": {},
   "source": [
    "## Loading the JSON file\n",
    "\n",
    "As before, we begin by importing the json package, opening a file with python's built in function, and then loading that data in."
   ]
  },
  {
   "cell_type": "code",
   "execution_count": 11,
   "metadata": {},
   "outputs": [
    {
     "name": "stdout",
     "output_type": "stream",
     "text": [
      "[\n",
      "   {\n",
      "      \"show\" : {\n",
      "         \"url\" : \"http://www.tvmaze.com/shows/43042/mean-mums\",\n",
      "         \"externals\" : {\n",
      "            \"imdb\" : \"tt10613170\",\n",
      "            \"thetvdb\" : 366937,\n",
      "            \"tvrage\" : null\n",
      "         },\n",
      "         \"genres\" : [\n"
     ]
    }
   ],
   "source": [
    "!head output.json"
   ]
  },
  {
   "cell_type": "code",
   "execution_count": 12,
   "metadata": {},
   "outputs": [],
   "source": [
    "import json\n",
    "f = open('output.json')\n",
    "# type(f)\n",
    "# dir(f)"
   ]
  },
  {
   "cell_type": "code",
   "execution_count": 13,
   "metadata": {},
   "outputs": [],
   "source": [
    "# f.name\n",
    "# f.read()\n",
    "# f.seek(0)\n",
    "data = json.load(f)"
   ]
  },
  {
   "cell_type": "markdown",
   "metadata": {},
   "source": [
    "## Exploring JSON Schemas  \n",
    "\n",
    "Recall that JSON files have a nested structure. The most granular level of raw data will be individual numbers (float/int) and strings. These in turn will be stored in the equivalent of python lists and dictionaries. Because these can be combined, we'll start exploring by checking the type of our root object, and start mapping out the hierarchy of the json file."
   ]
  },
  {
   "cell_type": "code",
   "execution_count": 16,
   "metadata": {},
   "outputs": [
    {
     "data": {
      "text/plain": [
       "list"
      ]
     },
     "execution_count": 16,
     "metadata": {},
     "output_type": "execute_result"
    }
   ],
   "source": [
    "type(data)"
   ]
  },
  {
   "cell_type": "code",
   "execution_count": 27,
   "metadata": {},
   "outputs": [
    {
     "data": {
      "text/plain": [
       "{'show': {'url': 'http://www.tvmaze.com/shows/43042/mean-mums',\n",
       "  'externals': {'imdb': 'tt10613170', 'thetvdb': 366937, 'tvrage': None},\n",
       "  'genres': ['Comedy'],\n",
       "  'name': 'Mean Mums',\n",
       "  'status': 'Running',\n",
       "  'image': {'medium': 'http://static.tvmaze.com/uploads/images/medium_portrait/205/513475.jpg',\n",
       "   'original': 'http://static.tvmaze.com/uploads/images/original_untouched/205/513475.jpg'},\n",
       "  '_links': {'previousepisode': {'href': 'http://api.tvmaze.com/episodes/1705683'},\n",
       "   'self': {'href': 'http://api.tvmaze.com/shows/43042'}},\n",
       "  'premiered': '2019-07-16',\n",
       "  'id': 43042,\n",
       "  'summary': \"<p>When Jess's only son starts school it's a big learning curve, for Jess. She's thrown into a world of know-it-all, judgmental, passive aggressive women whose primary purpose is to promote their child as the most gifted, most brilliant and most bestest child ever. And let's not even start on the teachers. Joining the Junior Fundraising Committee to help establish herself in the school community, Jess hopes that her efforts might also help her to find some companionship, but alpha mum Heather is more interested in making money than making friends. Luckily, super chill mother-of-five Hine is there to play peacemaker. Together the mums must reach a ridiculous fundraising goal, with limited resources and a poor grasp of teamwork. Things aren't looking super great.</p>\",\n",
       "  'network': {'name': 'Three',\n",
       "   'id': 292,\n",
       "   'country': {'name': 'New Zealand',\n",
       "    'timezone': 'Pacific/Auckland',\n",
       "    'code': 'NZ'}},\n",
       "  'language': 'English',\n",
       "  'officialSite': 'https://www.threenow.co.nz/shows/mean-mums/S2045-087',\n",
       "  'schedule': {'days': ['Tuesday'], 'time': '20:35'},\n",
       "  'rating': {'average': 8},\n",
       "  'webChannel': None,\n",
       "  'updated': 1574365473,\n",
       "  'type': 'Scripted',\n",
       "  'runtime': 30,\n",
       "  'weight': 57},\n",
       " 'score': 19.615147}"
      ]
     },
     "execution_count": 27,
     "metadata": {},
     "output_type": "execute_result"
    }
   ],
   "source": [
    "data[0]"
   ]
  },
  {
   "cell_type": "markdown",
   "metadata": {},
   "source": [
    "As you can see, in this case, the first level of the hierarchy is a dictionary. Let's explore what keys are within this:"
   ]
  },
  {
   "cell_type": "code",
   "execution_count": 19,
   "metadata": {},
   "outputs": [
    {
     "data": {
      "text/plain": [
       "dict_keys(['show', 'score'])"
      ]
     },
     "execution_count": 19,
     "metadata": {},
     "output_type": "execute_result"
    }
   ],
   "source": [
    "data[0].keys()"
   ]
  },
  {
   "cell_type": "markdown",
   "metadata": {},
   "source": [
    "In this case, there are multiple keys, so we'll continue on down the pathway exploring and mapping out the hierarchy. Once again, let's start by checking the type of this nested data structure."
   ]
  },
  {
   "cell_type": "code",
   "execution_count": 21,
   "metadata": {},
   "outputs": [
    {
     "data": {
      "text/plain": [
       "dict"
      ]
     },
     "execution_count": 21,
     "metadata": {},
     "output_type": "execute_result"
    }
   ],
   "source": [
    "type(data[0]['show'])"
   ]
  },
  {
   "cell_type": "markdown",
   "metadata": {},
   "source": [
    "Another dictionary! So thus far, we have a dictionary within a dictionary. Once again, let's investigate what's within this dictionary (JSON calls the equivalent of Python dictionaries Objects.)"
   ]
  },
  {
   "cell_type": "code",
   "execution_count": 38,
   "metadata": {},
   "outputs": [
    {
     "data": {
      "text/plain": [
       "dict_keys(['url', 'externals', 'genres', 'name', 'status', 'image', '_links', 'premiered', 'id', 'summary', 'network', 'language', 'officialSite', 'schedule', 'rating', 'webChannel', 'updated', 'type', 'runtime', 'weight'])"
      ]
     },
     "execution_count": 38,
     "metadata": {},
     "output_type": "execute_result"
    }
   ],
   "source": [
    "data[0]['show'].keys()\n",
    "# !cp /Users/sndaiga/Downloads/Untitled\\ Diagram-Page-1.jpg ./img/json_diagram1.JPG\n",
    "# !cp /Users/sndaiga/Downloads/Untitled\\ Diagram-Page-2.jpg ./img/json_diagram2.JPG"
   ]
  },
  {
   "cell_type": "markdown",
   "metadata": {},
   "source": [
    "At this point, things are starting to look something like this: \n",
    "![](./img/json_diagram1.JPG)"
   ]
  },
  {
   "cell_type": "markdown",
   "metadata": {},
   "source": [
    "At this point, if we were to continue checking individual data types, we have a lot to go through. To simplify this, let's use a for loop:"
   ]
  },
  {
   "cell_type": "code",
   "execution_count": 35,
   "metadata": {},
   "outputs": [
    {
     "name": "stdout",
     "output_type": "stream",
     "text": [
      "url <class 'str'>\n",
      "externals <class 'dict'>\n",
      "genres <class 'list'>\n",
      "name <class 'str'>\n",
      "status <class 'str'>\n",
      "image <class 'dict'>\n",
      "_links <class 'dict'>\n",
      "premiered <class 'str'>\n",
      "id <class 'int'>\n",
      "summary <class 'str'>\n",
      "network <class 'dict'>\n",
      "language <class 'str'>\n",
      "officialSite <class 'str'>\n",
      "schedule <class 'dict'>\n",
      "rating <class 'dict'>\n",
      "webChannel <class 'NoneType'>\n",
      "updated <class 'int'>\n",
      "type <class 'str'>\n",
      "runtime <class 'int'>\n",
      "weight <class 'int'>\n"
     ]
    }
   ],
   "source": [
    "for key in data[0]['show'].keys():\n",
    "    print(key, type(data[0]['show'][key]))"
   ]
  },
  {
   "cell_type": "markdown",
   "metadata": {},
   "source": [
    "Adding this to our diagram we now have something like this:\n",
    "![](./img/json_diagram2.JPG)"
   ]
  },
  {
   "cell_type": "markdown",
   "metadata": {},
   "source": [
    "Normally, you may not draw out the full diagram as done here, but its a useful picture to have in mind, and in complex schemas, can be useful to map out. At this point, you also probably have a good idea of the general structure of the json file. However, there is still the list of items, which we could investigate further:\n",
    "- What surprising traps have you noticed?\n",
    "- Why does JSON sometimes come in strings?"
   ]
  },
  {
   "cell_type": "markdown",
   "metadata": {},
   "source": [
    "## What is an API?"
   ]
  },
  {
   "cell_type": "markdown",
   "metadata": {},
   "source": [
    "**Application Program Interfaces**, or APIs, are commonly used to retrieve data from remote websites. Sites like Reddit, Twitter, and Facebook all offer certain data through their APIs. \n",
    "\n",
    "![](./img/api-model.webp)"
   ]
  },
  {
   "cell_type": "markdown",
   "metadata": {},
   "source": [
    "## Lot of different APIs. Some are data oriented, some provide software\n",
    "\n",
    "[Fun apis from rapidapi](https://rapidapi.com/collection/cool-apis)\n",
    "[good free apis](https://rapidapi.com/collection/list-of-free-apis)\n",
    "\n",
    "![img](http://placekitten.com/200/300)"
   ]
  },
  {
   "cell_type": "markdown",
   "metadata": {},
   "source": [
    "![another](http://place-puppy.com/200x200)"
   ]
  },
  {
   "cell_type": "markdown",
   "metadata": {},
   "source": [
    "Python with two built-in modules, `urllib` and `urllib2` to handle these requests but these could be very confusing  and the documentation is not clear.\n",
    "\n",
    "To make these things simpler, one easy-to-use third-party library, known as` Requests`, is what most developers prefer to use it instead or urllib/urllib2. With this library, you can access content like web page headers, form data, files, and parameters via simple Python commands. It also allows you to access the response data in a simple way."
   ]
  },
  {
   "cell_type": "markdown",
   "metadata": {},
   "source": [
    "![](./img/logo.png)"
   ]
  },
  {
   "cell_type": "markdown",
   "metadata": {},
   "source": [
    "### `Requests` has the best documentation\n",
    "\n",
    "https://pypi.org/project/requests/\n",
    "\n",
    "https://3.python-requests.org/"
   ]
  },
  {
   "cell_type": "markdown",
   "metadata": {},
   "source": [
    "Below is how you would install and import the requests library before making any requests. \n",
    "```python\n",
    "# Uncomment and install requests if you dont have it already\n",
    "# !pip install requests\n",
    "\n",
    "# Import requests to working environment\n",
    "import requests\n",
    "```"
   ]
  },
  {
   "cell_type": "code",
   "execution_count": 39,
   "metadata": {},
   "outputs": [],
   "source": [
    "import requests"
   ]
  },
  {
   "cell_type": "markdown",
   "metadata": {},
   "source": [
    "### How `Requests` works\n",
    "![](https://media.giphy.com/media/csTg49UY90f0Q/giphy.gif)"
   ]
  },
  {
   "cell_type": "markdown",
   "metadata": {},
   "source": [
    "\n",
    "## The `.get()` Method\n",
    "\n",
    "Now we have requests library ready in our working environment, we can start making some requests using the `.get()` method as shown below:\n",
    "\n",
    "\n",
    "We can use a simple GET request to retrieve information from the OpenNotify API.\n",
    "\n",
    "\n",
    "\n",
    "\n",
    "OpenNotify has several API endpoints. An endpoint is a server route that is used to retrieve different data from the API. For example, the /comments endpoint on the Reddit API might retrieve information about comments, whereas the /users endpoint might retrieve data about users. To access them, you would add the endpoint to the base url of the API.\n",
    "\n"
   ]
  },
  {
   "cell_type": "markdown",
   "metadata": {},
   "source": [
    "### Where is the international space station _right now_ ?"
   ]
  },
  {
   "cell_type": "code",
   "execution_count": 42,
   "metadata": {},
   "outputs": [
    {
     "data": {
      "text/plain": [
       "['__attrs__',\n",
       " '__bool__',\n",
       " '__class__',\n",
       " '__delattr__',\n",
       " '__dict__',\n",
       " '__dir__',\n",
       " '__doc__',\n",
       " '__enter__',\n",
       " '__eq__',\n",
       " '__exit__',\n",
       " '__format__',\n",
       " '__ge__',\n",
       " '__getattribute__',\n",
       " '__getstate__',\n",
       " '__gt__',\n",
       " '__hash__',\n",
       " '__init__',\n",
       " '__init_subclass__',\n",
       " '__iter__',\n",
       " '__le__',\n",
       " '__lt__',\n",
       " '__module__',\n",
       " '__ne__',\n",
       " '__new__',\n",
       " '__nonzero__',\n",
       " '__reduce__',\n",
       " '__reduce_ex__',\n",
       " '__repr__',\n",
       " '__setattr__',\n",
       " '__setstate__',\n",
       " '__sizeof__',\n",
       " '__str__',\n",
       " '__subclasshook__',\n",
       " '__weakref__',\n",
       " '_content',\n",
       " '_content_consumed',\n",
       " '_next',\n",
       " 'apparent_encoding',\n",
       " 'close',\n",
       " 'connection',\n",
       " 'content',\n",
       " 'cookies',\n",
       " 'elapsed',\n",
       " 'encoding',\n",
       " 'headers',\n",
       " 'history',\n",
       " 'is_permanent_redirect',\n",
       " 'is_redirect',\n",
       " 'iter_content',\n",
       " 'iter_lines',\n",
       " 'json',\n",
       " 'links',\n",
       " 'next',\n",
       " 'ok',\n",
       " 'raise_for_status',\n",
       " 'raw',\n",
       " 'reason',\n",
       " 'request',\n",
       " 'status_code',\n",
       " 'text',\n",
       " 'url']"
      ]
     },
     "execution_count": 42,
     "metadata": {},
     "output_type": "execute_result"
    }
   ],
   "source": [
    "# Make a get request to get the latest position of the international space station from the opennotify api.\n",
    "response = requests.get(\"http://api.open-notify.org/iss-now.json\")\n",
    "type(response)\n",
    "dir(response)"
   ]
  },
  {
   "cell_type": "markdown",
   "metadata": {},
   "source": [
    "## You now have a `response` object\n",
    "\n",
    "[Response object documentation](https://2.python-requests.org/en/master/api/#requests.Response)"
   ]
  },
  {
   "cell_type": "code",
   "execution_count": 43,
   "metadata": {},
   "outputs": [
    {
     "name": "stdout",
     "output_type": "stream",
     "text": [
      "200\n"
     ]
    }
   ],
   "source": [
    "# Print the status code of the response.\n",
    "print(response.status_code)"
   ]
  },
  {
   "cell_type": "markdown",
   "metadata": {},
   "source": [
    "\n",
    "GET is by far the most used HTTP method. We can use GET request to retrieve data from any destination. \n",
    "GET is by far the most used HTTP method. We can use GET request to retrieve data from any destination. \n",
    "\n",
    "## Status Codes\n",
    "The request we make may not be always successful. The best way is to check the status code which gets returned with the response. Here is how you would do this. \n"
   ]
  },
  {
   "cell_type": "code",
   "execution_count": 51,
   "metadata": {},
   "outputs": [
    {
     "data": {
      "text/plain": [
       "True"
      ]
     },
     "execution_count": 51,
     "metadata": {},
     "output_type": "execute_result"
    }
   ],
   "source": [
    "# Code here \n",
    "response.status_code == requests.codes.ok\n",
    "# dir(requests.codes)\n",
    "# requests.codes.internal_server_error"
   ]
  },
  {
   "cell_type": "markdown",
   "metadata": {},
   "source": [
    "So this is a good check to see if our request was successful. Depending on the status of the web server, the access rights of the clients and availibility of requested information. A web server may return a number of status codes within the response. Wikipedia has an exhaustive details on all these codes. [Check them out here](https://en.wikipedia.org/wiki/List_of_HTTP_status_codes)"
   ]
  },
  {
   "cell_type": "markdown",
   "metadata": {},
   "source": [
    "### Common status codes\n",
    "\n",
    "![](./img/http_response_codes.gif)"
   ]
  },
  {
   "cell_type": "markdown",
   "metadata": {},
   "source": [
    "### In simpler language\n",
    "* 200 — everything went okay, and the result has been returned (if any)\n",
    "* 301 — the server is redirecting you to a different endpoint. This can happen when a company switches domain names, or an endpoint name is changed.\n",
    "* 401 — the server thinks you’re not authenticated. This happens when you don’t send the right credentials to access an API (we’ll talk about authentication in a later post).\n",
    "* 400 — the server thinks you made a bad request. This can happen when you don’t send along the right data, among other things.\n",
    "* 403 — the resource you’re trying to access is forbidden — you don’t have the right permissions to see it.\n",
    "* 404 — the resource you tried to access wasn’t found on the server."
   ]
  },
  {
   "cell_type": "markdown",
   "metadata": {},
   "source": [
    "### Hitting the right endpoint\n",
    "Try again with the code:\n",
    "```\n",
    "response = requests.get(\"http://api.open-notify.org/iss-pass\")\n",
    "print(response.status_code)\n",
    "```"
   ]
  },
  {
   "cell_type": "code",
   "execution_count": null,
   "metadata": {},
   "outputs": [],
   "source": []
  },
  {
   "cell_type": "markdown",
   "metadata": {},
   "source": [
    "iss-pass wasn’t a valid endpoint, so we got a 404 status code in response. We forgot to add `.json` at the end, as the API documentation states.\n",
    "\n",
    "We’ll now make a GET request to http://api.open-notify.org/iss-pass.json and assign it to variable `response`"
   ]
  },
  {
   "cell_type": "code",
   "execution_count": null,
   "metadata": {},
   "outputs": [],
   "source": []
  },
  {
   "cell_type": "markdown",
   "metadata": {},
   "source": [
    "\n",
    "## Response Contents\n",
    "Once we know that our request was successful and we have a valid response, we can check the returned information using `.text` property of the response object. \n",
    "```python\n",
    "print (resp.text)\n",
    "```"
   ]
  },
  {
   "cell_type": "code",
   "execution_count": 52,
   "metadata": {},
   "outputs": [
    {
     "data": {
      "text/plain": [
       "<Response [200]>"
      ]
     },
     "execution_count": 52,
     "metadata": {},
     "output_type": "execute_result"
    }
   ],
   "source": [
    "response"
   ]
  },
  {
   "cell_type": "code",
   "execution_count": 53,
   "metadata": {},
   "outputs": [
    {
     "name": "stdout",
     "output_type": "stream",
     "text": [
      "400\n"
     ]
    }
   ],
   "source": [
    "response = requests.get(\"http://api.open-notify.org/iss-pass.json\")\n",
    "print(response.status_code)\n"
   ]
  },
  {
   "cell_type": "code",
   "execution_count": 54,
   "metadata": {},
   "outputs": [
    {
     "name": "stdout",
     "output_type": "stream",
     "text": [
      "{\n",
      "  \"message\": \"failure\", \n",
      "  \"reason\": \"Latitude must be specified\"\n",
      "}\n",
      "\n"
     ]
    }
   ],
   "source": [
    "# Code here \n",
    "print(response.text)"
   ]
  },
  {
   "cell_type": "markdown",
   "metadata": {},
   "source": [
    "### Query parameters\n",
    "\n",
    "If you look at the documentation for the OpenNotify API, we see that the ISS Pass endpoint requires two parameters.\n",
    "\n",
    "We can do this by adding an optional keyword argument, params, to our request. In this case, there are two parameters we need to pass:\n",
    "\n",
    "* lat — The latitude of the location we want.\n",
    "* lon — The longitude of the location we want.\n",
    "We can make a dictionary with these parameters, and then pass them into the requests.get function.\n",
    "\n",
    "We can also do the same thing directly by adding the query parameters to the url, like this: http://api.open-notify.org/iss-pass.json?lat=51.5074&lon=0.1278.\n",
    "\n",
    "It’s almost always preferable to setup the parameters as a dictionary, because requests takes care of some things that come up, like properly formatting the query parameters.\n",
    "\n",
    "We’ll make a request using the coordinates of New York City, and see what response we get."
   ]
  },
  {
   "cell_type": "code",
   "execution_count": 76,
   "metadata": {},
   "outputs": [
    {
     "name": "stdout",
     "output_type": "stream",
     "text": [
      "b'{\\n  \"message\": \"success\", \\n  \"request\": {\\n    \"altitude\": 100, \\n    \"datetime\": 1582791530, \\n    \"latitude\": 51.5074, \\n    \"longitude\": 0.1278, \\n    \"passes\": 5\\n  }, \\n  \"response\": [\\n    {\\n      \"duration\": 450, \\n      \"risetime\": 1582802557\\n    }, \\n    {\\n      \"duration\": 371, \\n      \"risetime\": 1582857242\\n    }, \\n    {\\n      \"duration\": 615, \\n      \"risetime\": 1582862870\\n    }, \\n    {\\n      \"duration\": 656, \\n      \"risetime\": 1582868638\\n    }\\n  ]\\n}\\n'\n",
      "{\n",
      "  \"message\": \"success\", \n",
      "  \"request\": {\n",
      "    \"altitude\": 100, \n",
      "    \"datetime\": 1582791530, \n",
      "    \"latitude\": 51.5074, \n",
      "    \"longitude\": 0.1278, \n",
      "    \"passes\": 5\n",
      "  }, \n",
      "  \"response\": [\n",
      "    {\n",
      "      \"duration\": 450, \n",
      "      \"risetime\": 1582802557\n",
      "    }, \n",
      "    {\n",
      "      \"duration\": 371, \n",
      "      \"risetime\": 1582857242\n",
      "    }, \n",
      "    {\n",
      "      \"duration\": 615, \n",
      "      \"risetime\": 1582862870\n",
      "    }, \n",
      "    {\n",
      "      \"duration\": 656, \n",
      "      \"risetime\": 1582868638\n",
      "    }\n",
      "  ]\n",
      "}\n",
      "\n"
     ]
    }
   ],
   "source": [
    "# Set up the parameters we want to pass to the API.\n",
    "# This is the latitude and longitude of London.\n",
    "parameters = {\"lat\": 51.5074, \"lon\": 0.1278}\n",
    "\n",
    "\n",
    "# Make a get request with the parameters.\n",
    "response = requests.get(\"http://api.open-notify.org/iss-pass.json\", params=parameters)\n",
    "\n",
    "\n",
    "# Print the content of the response (the data the server returned)\n",
    "print(response.content)\n",
    "# print('%s' % (response.text))\n",
    "# print('{0}'.format(response.text))\n",
    "print(f'{response.text}')"
   ]
  },
  {
   "cell_type": "code",
   "execution_count": 78,
   "metadata": {
    "collapsed": true
   },
   "outputs": [],
   "source": [
    "# response.text[\"message\"]\n",
    "# json.loads(response.content)"
   ]
  },
  {
   "cell_type": "markdown",
   "metadata": {},
   "source": [
    "So this returns a lot of information which by default is not really human understandable due to data encoding, HTML tags and other styling information that only a web browser can truly translate. In later lessons we shall look at how we can use ** Regular Exprerssions**  to clean this information and extract the required bits and pieces for analysis. \n",
    "\n",
    "## Response Headers\n",
    "The response of an HTTP request can contain many headers that holds different bits of information. We can use `.header` property of the response object to access the header information as shown below:\n"
   ]
  },
  {
   "cell_type": "code",
   "execution_count": 79,
   "metadata": {},
   "outputs": [
    {
     "data": {
      "text/plain": [
       "{'Server': 'nginx/1.10.3',\n",
       " 'Date': 'Thu, 27 Feb 2020 09:17:06 GMT',\n",
       " 'Content-Type': 'application/json',\n",
       " 'Content-Length': '455',\n",
       " 'Connection': 'keep-alive',\n",
       " 'Via': '1.1 vegur'}"
      ]
     },
     "execution_count": 79,
     "metadata": {},
     "output_type": "execute_result"
    }
   ],
   "source": [
    "# Code here \n",
    "dict(response.headers)"
   ]
  },
  {
   "cell_type": "markdown",
   "metadata": {},
   "source": [
    "The content of the headers is our required element. You can see the key-value pairs holding various pieces of  information about the resource and request. Let's try to parse some of these values using the requests library:\n",
    "\n",
    "```python\n",
    "print(resp.headers['Content-Length'])  # length of the response\n",
    "print(resp.headers['Date'])  # Date the response was sent\n",
    "print(resp.headers['server'])   # Server type (google web service - GWS)\n",
    "```"
   ]
  },
  {
   "cell_type": "markdown",
   "metadata": {},
   "source": [
    "\n",
    "## HTTP POST method \n",
    "\n",
    "Sometimes we need to send one or more files simultaneously to the server. For example, if a user is submitting a form and the form includes different fields for uploading files, like user profile picture, user resume, etc. Requests can handle multiple files on a single request. This can be achieved by putting the files to a list of tuples in the form (`field_name, file_info)`.\n",
    "\n",
    "\n",
    "```python\n",
    "import requests\n",
    "\n",
    "url = 'http://httpbin.org/post'  \n",
    "file_list = [  \n",
    "    ('image', ('fi.png', open('fi.png', 'rb'), 'image/png')),\n",
    "    ('image', ('fi2.jpeg', open('fi2.jpeg', 'rb'), 'image/png'))\n",
    "]\n",
    "\n",
    "r = requests.post(url, files=file_list)  \n",
    "print(r.text)  \n",
    "```"
   ]
  },
  {
   "cell_type": "markdown",
   "metadata": {},
   "source": [
    "## APIs have limits, usually based on tier access\n",
    "### [Fun example](https://www.brewerydb.com/developers)\n",
    "![](img/quota.png)\n"
   ]
  },
  {
   "cell_type": "markdown",
   "metadata": {},
   "source": [
    "\n",
    "## Generating Access Tokens\n",
    "\n",
    "As discussed, in order to use many APIs, one needs to use OAuth which requires an access token. As such, our first step will be to generate this login information so that we can start making some requests.  \n",
    "\n",
    "With that, lets go grab an access token from an API site and make some API calls!\n",
    "Point your browser over to this [yelp page](https://www.yelp.com/developers/v3/manage_app) and start creating an app in order to obtain and api access token:"
   ]
  },
  {
   "cell_type": "markdown",
   "metadata": {},
   "source": [
    "\n",
    "![](./img/yelp_app.png)"
   ]
  },
  {
   "cell_type": "markdown",
   "metadata": {},
   "source": [
    "You can either sign in to an existing Yelp account, or create a new one, if needed.\n",
    "\n",
    "On the page you see above, simply fill out some sample information such as \"Flatiron Edu API Example\" for the app name, or whatever floats your boat. Afterwards, you should be presented with an API key that you can use to make requests!\n",
    "\n",
    "With that, it's time to start making some api calls!"
   ]
  },
  {
   "cell_type": "markdown",
   "metadata": {},
   "source": [
    "### Storing API key information\n",
    "\n",
    "As a general rule of thumb, don't store passwords in a main file like so:\n",
    "\n",
    "```\n",
    "client_id = 'bVX1Jsfp4dkIOqw5HOVplg' #Your client ID goes here (as a string)\n",
    "api_key = 'RTzp-q-TgkJW_NFQogubFvZNRDziXyoR38VbtZMWibDI-FlvB25OE7GmafFEqhTL8_Bk2HlcX24-hRWLMP7Nc6WHO_VXMXldpPBjP0LoPv5EFFELMSI2oll8njhbXHYx' #Your api key goes here (as a string)\n",
    "```\n",
    "Instead, you would normally store those passwords under a sub file like passwords.json which you would then import.\n",
    "Or even better, as an environment variable that could then be imported! DO NOT TRACK PROTECTED/SENSITIVE INFORMATION IN GIT!\n",
    "\n",
    "In your terminal:\n",
    "```bash\n",
    "    git config --global alias.ignore \\\n",
    "    '!gi() { curl -sL https://www.gitignore.io/api/$@ ;}; gi'\n",
    "    git ignore pydev,linux,macos,python,windows,sublimetext,jupyternotebooks,visualstudiocode > .gitignore\n",
    "    echo 'secrets.json' >> .gitignore\n",
    "    git add .gitignore\n",
    "    git commit -m 'added gitignore (with secrets.json)'\n",
    "```\n",
    "\n",
    "\n",
    "In your notebook/python:\n",
    "```python\n",
    "    auth = json.loads('secrets.json')\n",
    "    print(auth['client_id'], auth['api_key'])\n",
    "```"
   ]
  },
  {
   "cell_type": "markdown",
   "metadata": {},
   "source": [
    "### Register for a Yelp account and then add your keys to the file `yelp_keys.py`\n",
    "Once those are saved, the following code should load them into our environment"
   ]
  },
  {
   "cell_type": "code",
   "execution_count": 84,
   "metadata": {},
   "outputs": [
    {
     "name": "stdout",
     "output_type": "stream",
     "text": [
      "xXuJ7mHpPT4xCMrl5sBBEg SnSkEZOsu-a_3NHpOfL-ajZWEPRdE-HPcT211H61xJhJEKD7Bx5Mav43azgTPM_OSK9RBRy46C80pW506hmxXS7ZoQseOtpcHquSRoBA6Ftg85mr7DJAv6Gx44tXXnYx\n"
     ]
    }
   ],
   "source": [
    "auth = json.load(open('secrets.json'))\n",
    "print(auth['client_id'], auth['api_key'])\n",
    "# client_key = return_client_id()\n",
    "# api_key = return_api_key()"
   ]
  },
  {
   "cell_type": "markdown",
   "metadata": {},
   "source": [
    "## An Example Request with OAuth <a id=\"oauth_request\"></a>\n",
    "https://www.yelp.com/developers/documentation/v3/get_started\n",
    "\n",
    "In the next lesson, we'll further dissect how to read and translate online documentation like the link here. For now, let's simply look at an example request and dissect it into its consituent parts:"
   ]
  },
  {
   "cell_type": "code",
   "execution_count": 94,
   "metadata": {},
   "outputs": [
    {
     "name": "stdout",
     "output_type": "stream",
     "text": [
      "<Response [200]>\n",
      "<class 'str'>\n",
      "{\"businesses\": [{\"id\": \"oriXLxppZTO7Uu6qUN6Pfg\", \"alias\": \"pop-taco-london\", \"name\": \"POP TACO\", \"image_url\": \"https://s3-media3.fl.yelpcdn.com/bphoto/ZAMHIctqoGkynDYY2Ufp0Q/o.jpg\", \"is_closed\": false, \"url\": \"https://www.yelp.com/biz/pop-taco-london?adjust_creative=xXuJ7mHpPT4xCMrl5sBBEg&utm_campaign=yelp_api_v3&utm_medium=api_v3_business_search&utm_source=xXuJ7mHpPT4xCMrl5sBBEg\", \"review_count\": 1, \"categories\": [{\"alias\": \"mexican\", \"title\": \"Mexican\"}, {\"alias\": \"latin\", \"title\": \"Latin American\"}, {\"alias\": \"tex-mex\", \"title\": \"Tex-Mex\"}], \"rating\": 5.0, \"coordinates\": {\"latitude\": 51.5258046, \"longitude\": -0.0836612}, \"transactions\": [], \"location\": {\"address1\": \"91-93 Great Eastern Street\", \"address2\": \"\", \"address3\": \"\", \"city\": \"London\", \"zip_code\": \"EC2A 3JD\", \"country\": \"GB\", \"state\": \"XGL\", \"display_address\": [\"91-93 Great Eastern Street\", \"London EC2A 3JD\", \"United Kingdom\"]}, \"phone\": \"+447961439662\", \"display_phone\": \"+44 7961 439662\", \"distance\": 706.702728363942}, {\"id\n"
     ]
    }
   ],
   "source": [
    "term = 'Mexican'\n",
    "location = 'Finsbury Pavement London'\n",
    "SEARCH_LIMIT = 10\n",
    "\n",
    "url = 'https://api.yelp.com/v3/businesses/search'\n",
    "\n",
    "headers = {\n",
    "        'Authorization': 'Bearer {}'.format(auth['api_key']),\n",
    "        'Content-Type': 'application/json',\n",
    "        'Accept': 'application/json'\n",
    "    }\n",
    "\n",
    "url_params = {\n",
    "                'term': term.replace(' ', '+'),\n",
    "                'location': location.replace(' ', '+'),\n",
    "                'limit': SEARCH_LIMIT\n",
    "            }\n",
    "response = requests.get(url, headers=headers, params=url_params)\n",
    "print(response)\n",
    "print(type(response.text))\n",
    "print(response.text[:1000])"
   ]
  },
  {
   "cell_type": "markdown",
   "metadata": {},
   "source": [
    "## Breaking Down the Request\n",
    "\n",
    "As you can see, there are three main parts to our request.  \n",
    "  \n",
    "They are:\n",
    "* The url\n",
    "* The header\n",
    "* The parameters\n",
    "  \n",
    "The url is fairly straightforward and is simply the base url as described in the documentation (again more details in the upcoming lesson).\n",
    "\n",
    "The header is a dictionary of key-value pairs. In this case, we are using a fairly standard header used by many APIs. It has a strict form where 'Authorization' is the key and 'Bearer YourApiKey' is the value.\n",
    "\n",
    "The parameters are the filters which we wish to pass into the query. These will be embedded into the url when the request is made to the api. Similar to the header, they form key-value pairs. Valid key parameters by which to structure your queries, are described in the API documentation which we'll look at further shortly. A final important note however, is the need to replace spaces with \"+\". This is standard to many requests as URLs cannot contain spaces. (Note that the header itself isn't directly embedded into the url itself and as such, the space between 'Bearer' and YourApiKey is valid.)"
   ]
  },
  {
   "cell_type": "markdown",
   "metadata": {},
   "source": [
    "\n",
    "## The Response\n",
    "\n",
    "As before, our response object has both a status code, as well as the data itself. With that, let's start with a little data exploration!"
   ]
  },
  {
   "cell_type": "code",
   "execution_count": 91,
   "metadata": {},
   "outputs": [
    {
     "data": {
      "text/plain": [
       "dict_keys(['businesses', 'total', 'region'])"
      ]
     },
     "execution_count": 91,
     "metadata": {},
     "output_type": "execute_result"
    }
   ],
   "source": [
    "response.json().keys()\n"
   ]
  },
  {
   "cell_type": "markdown",
   "metadata": {},
   "source": [
    "Now let's go a bit further and start to preview what's stored in each of the values for these keys.\n"
   ]
  },
  {
   "cell_type": "code",
   "execution_count": 95,
   "metadata": {},
   "outputs": [
    {
     "name": "stdout",
     "output_type": "stream",
     "text": [
      "businesses\n",
      "<class 'list'>\n",
      "\n",
      "\n",
      "\n",
      "total\n",
      "<class 'int'>\n",
      "\n",
      "\n",
      "\n",
      "region\n",
      "<class 'dict'>\n",
      "\n",
      "\n",
      "\n"
     ]
    }
   ],
   "source": [
    "for key in response.json().keys():\n",
    "    print(key)\n",
    "    value = response.json()[key] #Use standard dictionary formatting\n",
    "    print(type(value)) #What type is it?\n",
    "    print('\\n\\n') #Seperate out data"
   ]
  },
  {
   "cell_type": "markdown",
   "metadata": {},
   "source": [
    "Let's continue to preview these further to get a little better acquainted.\n"
   ]
  },
  {
   "cell_type": "code",
   "execution_count": 96,
   "metadata": {
    "scrolled": true
   },
   "outputs": [
    {
     "data": {
      "text/plain": [
       "[{'id': 'oriXLxppZTO7Uu6qUN6Pfg',\n",
       "  'alias': 'pop-taco-london',\n",
       "  'name': 'POP TACO',\n",
       "  'image_url': 'https://s3-media3.fl.yelpcdn.com/bphoto/ZAMHIctqoGkynDYY2Ufp0Q/o.jpg',\n",
       "  'is_closed': False,\n",
       "  'url': 'https://www.yelp.com/biz/pop-taco-london?adjust_creative=xXuJ7mHpPT4xCMrl5sBBEg&utm_campaign=yelp_api_v3&utm_medium=api_v3_business_search&utm_source=xXuJ7mHpPT4xCMrl5sBBEg',\n",
       "  'review_count': 1,\n",
       "  'categories': [{'alias': 'mexican', 'title': 'Mexican'},\n",
       "   {'alias': 'latin', 'title': 'Latin American'},\n",
       "   {'alias': 'tex-mex', 'title': 'Tex-Mex'}],\n",
       "  'rating': 5.0,\n",
       "  'coordinates': {'latitude': 51.5258046, 'longitude': -0.0836612},\n",
       "  'transactions': [],\n",
       "  'location': {'address1': '91-93 Great Eastern Street',\n",
       "   'address2': '',\n",
       "   'address3': '',\n",
       "   'city': 'London',\n",
       "   'zip_code': 'EC2A 3JD',\n",
       "   'country': 'GB',\n",
       "   'state': 'XGL',\n",
       "   'display_address': ['91-93 Great Eastern Street',\n",
       "    'London EC2A 3JD',\n",
       "    'United Kingdom']},\n",
       "  'phone': '+447961439662',\n",
       "  'display_phone': '+44 7961 439662',\n",
       "  'distance': 706.702728363942},\n",
       " {'id': 'QUGuf8dbTLQixH6SsAztWw',\n",
       "  'alias': 'gourmet-gorditas-london',\n",
       "  'name': 'Gourmet Gorditas',\n",
       "  'image_url': 'https://s3-media1.fl.yelpcdn.com/bphoto/8pixWkQtBob9yc2nmoiX6g/o.jpg',\n",
       "  'is_closed': False,\n",
       "  'url': 'https://www.yelp.com/biz/gourmet-gorditas-london?adjust_creative=xXuJ7mHpPT4xCMrl5sBBEg&utm_campaign=yelp_api_v3&utm_medium=api_v3_business_search&utm_source=xXuJ7mHpPT4xCMrl5sBBEg',\n",
       "  'review_count': 1,\n",
       "  'categories': [{'alias': 'mexican', 'title': 'Mexican'},\n",
       "   {'alias': 'popuprestaurants', 'title': 'Pop-Up Restaurants'}],\n",
       "  'rating': 5.0,\n",
       "  'coordinates': {'latitude': 51.5229167, 'longitude': -0.080614},\n",
       "  'transactions': [],\n",
       "  'price': '£',\n",
       "  'location': {'address1': '28 Curtain Road',\n",
       "   'address2': None,\n",
       "   'address3': None,\n",
       "   'city': 'London',\n",
       "   'zip_code': 'EC2A 3NZ',\n",
       "   'country': 'GB',\n",
       "   'state': 'XGL',\n",
       "   'display_address': ['28 Curtain Road',\n",
       "    'London EC2A 3NZ',\n",
       "    'United Kingdom']},\n",
       "  'phone': '+447854683335',\n",
       "  'display_phone': '+44 7854 683335',\n",
       "  'distance': 580.1523475094299}]"
      ]
     },
     "execution_count": 96,
     "metadata": {},
     "output_type": "execute_result"
    }
   ],
   "source": [
    "yelp_data =response.json()\n",
    "yelp_data['businesses'][:2]"
   ]
  },
  {
   "cell_type": "markdown",
   "metadata": {},
   "source": [
    "As you can see, we're primarily interested in the 'bussinesses' entry. \n"
   ]
  },
  {
   "cell_type": "markdown",
   "metadata": {},
   "source": [
    "## Summary <a id=\"sum\"></a>\n",
    "\n",
    "Congratulations! We've covered a lot here! We took some of your previous knowledge with HTTP requests and OAuth in order to leverage an enterprise API! Then we made some requests to retrieve information that came back as a json format. We then transformed this data into a dataframe using the Pandas package. In the next lab, we'll break down how to read API documentation and then put it all together to make a nifty map!"
   ]
  },
  {
   "cell_type": "markdown",
   "metadata": {},
   "source": [
    "## Useful tools:\n",
    "\n",
    "* [JSON Viewer chrome extension](https://chrome.google.com/webstore/detail/jsonview/gmegofmjomhknnokphhckolhcffdaihd?hl=en)\n",
    "* [JSON editor](https://jsoneditoronline.org/)\n",
    "* [JSON validator](https://codebeautify.org/jsonvalidator)\n",
    "* [JSON API Specification](https://jsonapi.org/)\n",
    "* [Insomnia API Explorer](https://insomnia.rest/)\n",
    "* [Free APIs](https://github.com/public-apis/public-apis)\n",
    "* [Rapid API Free](https://rapidapi.com/collection/best-free-apis)\n"
   ]
  },
  {
   "cell_type": "code",
   "execution_count": null,
   "metadata": {},
   "outputs": [],
   "source": []
  }
 ],
 "metadata": {
  "kernelspec": {
   "display_name": "Python 3",
   "language": "python",
   "name": "python3"
  },
  "language_info": {
   "codemirror_mode": {
    "name": "ipython",
    "version": 3
   },
   "file_extension": ".py",
   "mimetype": "text/x-python",
   "name": "python",
   "nbconvert_exporter": "python",
   "pygments_lexer": "ipython3",
   "version": "3.7.2"
  }
 },
 "nbformat": 4,
 "nbformat_minor": 2
}
