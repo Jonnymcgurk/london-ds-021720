{
 "cells": [
  {
   "cell_type": "markdown",
   "metadata": {},
   "source": [
    "# Libraries in General and Numpy in Particular"
   ]
  },
  {
   "cell_type": "markdown",
   "metadata": {},
   "source": [
    "## 1. Importing Python Libraries\n",
    "\n",
    "Part of the reason why Python is such a powerful tool for data science is that other people have written and optimized functions and wrapped them into **libraries** that we can bring into our own work.\n",
    "\n",
    "![numpy](https://raw.githubusercontent.com/donnemartin/data-science-ipython-notebooks/master/images/numpy.png)\n",
    "\n",
    "[NumPy](https://www.numpy.org/) is the fundamental package for scientific computing with Python. \n",
    "\n",
    "\n",
    "To use a package in your current workspace type `import` followed by the name of the library as shown below."
   ]
  },
  {
   "cell_type": "code",
   "execution_count": 1,
   "metadata": {},
   "outputs": [],
   "source": [
    "import numpy"
   ]
  },
  {
   "cell_type": "markdown",
   "metadata": {},
   "source": [
    "That worked because numpy is [included with Anaconda](https://docs.anaconda.com/anaconda/packages/py3.7_osx-64/), so numpy was installed when you installed Anaconda. Other packages will need to be installed before you can use them.\n",
    "\n",
    "Let's try importing azure (which is a library for using MS Azure in Python)."
   ]
  },
  {
   "cell_type": "code",
   "execution_count": 2,
   "metadata": {},
   "outputs": [
    {
     "ename": "ModuleNotFoundError",
     "evalue": "No module named 'azure'",
     "output_type": "error",
     "traceback": [
      "\u001b[0;31m---------------------------------------------------------------------------\u001b[0m",
      "\u001b[0;31mModuleNotFoundError\u001b[0m                       Traceback (most recent call last)",
      "\u001b[0;32m<ipython-input-2-79c4d6bf30ff>\u001b[0m in \u001b[0;36m<module>\u001b[0;34m\u001b[0m\n\u001b[0;32m----> 1\u001b[0;31m \u001b[0;32mimport\u001b[0m \u001b[0mazure\u001b[0m\u001b[0;34m\u001b[0m\u001b[0;34m\u001b[0m\u001b[0m\n\u001b[0m",
      "\u001b[0;31mModuleNotFoundError\u001b[0m: No module named 'azure'"
     ]
    }
   ],
   "source": [
    "#import azure"
   ]
  },
  {
   "cell_type": "markdown",
   "metadata": {},
   "source": [
    "That failed because azure is **not** included with Anaconda. In order to get this package, we'll have to install it first:"
   ]
  },
  {
   "cell_type": "code",
   "execution_count": 3,
   "metadata": {},
   "outputs": [
    {
     "name": "stdout",
     "output_type": "stream",
     "text": [
      "Collecting azure\n",
      "  Downloading https://files.pythonhosted.org/packages/5a/5e/f94bd8091ab0ccc68ee902e188d4e8cd3b38dc77155a1c187cbf4767d0e4/azure-4.0.0-py2.py3-none-any.whl\n",
      "Collecting azure-batch~=4.1 (from azure)\n",
      "\u001b[?25l  Downloading https://files.pythonhosted.org/packages/b1/fa/1053b5dcd88e5de8e8cd70a4d7189ffad037542963ea86b518deb612c498/azure_batch-4.1.3-py2.py3-none-any.whl (314kB)\n",
      "\u001b[K     |████████████████████████████████| 317kB 3.5MB/s eta 0:00:01\n",
      "\u001b[?25hCollecting azure-storage-file~=1.3 (from azure)\n",
      "  Downloading https://files.pythonhosted.org/packages/c9/33/6c611563412ffc409b2413ac50e3a063133ea235b86c137759774c77f3ad/azure_storage_file-1.4.0-py2.py3-none-any.whl\n",
      "Collecting azure-datalake-store~=0.0.18 (from azure)\n",
      "\u001b[?25l  Downloading https://files.pythonhosted.org/packages/27/9a/e7140775b3f8f011ef5d001c12a3519310094375671950105519e30bb12b/azure_datalake_store-0.0.48-py2.py3-none-any.whl (53kB)\n",
      "\u001b[K     |████████████████████████████████| 61kB 15.7MB/s eta 0:00:01\n",
      "\u001b[?25hCollecting azure-servicemanagement-legacy~=0.20.6 (from azure)\n",
      "\u001b[?25l  Downloading https://files.pythonhosted.org/packages/a3/2b/0813d459df7ec04bb8c6a250882ee88b672a5f8d16a237978c89436a053e/azure_servicemanagement_legacy-0.20.6-py2.py3-none-any.whl (78kB)\n",
      "\u001b[K     |████████████████████████████████| 81kB 8.7MB/s eta 0:00:011\n",
      "\u001b[?25hCollecting azure-eventgrid~=1.1 (from azure)\n",
      "\u001b[?25l  Downloading https://files.pythonhosted.org/packages/01/e4/2a3319f04c69f0113a05884664769d462dcec55031c6d154a2c4176cfb79/azure_eventgrid-1.3.0-py2.py3-none-any.whl (167kB)\n",
      "\u001b[K     |████████████████████████████████| 174kB 8.3MB/s eta 0:00:01\n",
      "\u001b[?25hCollecting azure-storage-queue~=1.3 (from azure)\n",
      "  Downloading https://files.pythonhosted.org/packages/72/94/4db044f1c155b40c5ebc037bfd9d1c24562845692c06798fbe869fe160e6/azure_storage_queue-1.4.0-py2.py3-none-any.whl\n",
      "Collecting azure-servicebus~=0.21.1 (from azure)\n",
      "  Downloading https://files.pythonhosted.org/packages/b8/de/47c0df32b57512ac9640ba239c7eeca22cb908bd8b645235729ec4f37196/azure_servicebus-0.21.1-py2.py3-none-any.whl\n",
      "Collecting azure-graphrbac~=0.40.0 (from azure)\n",
      "\u001b[?25l  Downloading https://files.pythonhosted.org/packages/89/0a/29f7e2914033e2536026b8f0d7f8deb1edda68c9a93ce4757b2b1e39568b/azure_graphrbac-0.40.0-py2.py3-none-any.whl (63kB)\n",
      "\u001b[K     |████████████████████████████████| 71kB 12.9MB/s eta 0:00:01\n",
      "\u001b[?25hCollecting azure-keyvault~=1.0 (from azure)\n",
      "\u001b[?25l  Downloading https://files.pythonhosted.org/packages/80/37/e80f577570b32648c4b88c8c48a46501a4868ae4c8d905774fd02c2b01fc/azure_keyvault-1.1.0-py2.py3-none-any.whl (352kB)\n",
      "\u001b[K     |████████████████████████████████| 358kB 6.5MB/s eta 0:00:01\n",
      "\u001b[?25hCollecting azure-loganalytics~=0.1.0 (from azure)\n",
      "  Downloading https://files.pythonhosted.org/packages/54/e2/1d30270441a50efce1d52eb426710fc98269eb8bdac44ee966bbd07846da/azure_loganalytics-0.1.0-py2.py3-none-any.whl\n",
      "Collecting azure-storage-blob~=1.3 (from azure)\n",
      "\u001b[?25l  Downloading https://files.pythonhosted.org/packages/25/f4/a307ed89014e9abb5c5cfc8ca7f8f797d12f619f17a6059a6fd4b153b5d0/azure_storage_blob-1.5.0-py2.py3-none-any.whl (75kB)\n",
      "\u001b[K     |████████████████████████████████| 81kB 22.7MB/s eta 0:00:01\n",
      "\u001b[?25hCollecting azure-cosmosdb-table~=1.0 (from azure)\n",
      "\u001b[?25l  Downloading https://files.pythonhosted.org/packages/f0/e4/15a59108883cc47460b1475aeac935e2d975b5def42f2c0a8b8fd48b3304/azure_cosmosdb_table-1.0.6-py2.py3-none-any.whl (125kB)\n",
      "\u001b[K     |████████████████████████████████| 133kB 6.7MB/s eta 0:00:01\n",
      "\u001b[?25hCollecting azure-mgmt~=4.0 (from azure)\n",
      "  Downloading https://files.pythonhosted.org/packages/19/8e/6fa401c437579127e726487582a9861fef09022c4ab50901bb499a8e4fc1/azure_mgmt-4.0.0-py2.py3-none-any.whl\n",
      "Collecting azure-servicefabric~=6.3.0.0 (from azure)\n",
      "\u001b[?25l  Downloading https://files.pythonhosted.org/packages/2c/d9/3e33ad19eb57988dff3aac06bab241736f86dc692a38c5ff6bb6fb959243/azure_servicefabric-6.3.0.0-py2.py3-none-any.whl (1.1MB)\n",
      "\u001b[K     |████████████████████████████████| 1.1MB 9.6MB/s eta 0:00:01\n",
      "\u001b[?25hCollecting azure-applicationinsights~=0.1.0 (from azure)\n",
      "\u001b[?25l  Downloading https://files.pythonhosted.org/packages/3b/f7/3af9ce8a9a597998629436889cf5d69d1a0c96713e795fd372e4af785635/azure_applicationinsights-0.1.0-py2.py3-none-any.whl (104kB)\n",
      "\u001b[K     |████████████████████████████████| 112kB 11.2MB/s eta 0:00:01\n",
      "\u001b[?25hCollecting msrestazure<2.0.0,>=0.4.20 (from azure-batch~=4.1->azure)\n",
      "\u001b[?25l  Downloading https://files.pythonhosted.org/packages/68/75/5cb56ca8cbc6c5fe476e4878c73f57a331edcf55e5d3fcb4a7377d7d659d/msrestazure-0.6.2-py2.py3-none-any.whl (40kB)\n",
      "\u001b[K     |████████████████████████████████| 40kB 18.8MB/s eta 0:00:01\n",
      "\u001b[?25hCollecting azure-nspkg>=2.0.0 (from azure-batch~=4.1->azure)\n",
      "  Downloading https://files.pythonhosted.org/packages/c4/0c/c562be95a9a2ed52454f598571cf300b1114d0db2aa27f5b8ed3bb9cd0c0/azure_nspkg-3.0.2-py3-none-any.whl\n",
      "Collecting azure-common~=1.1 (from azure-batch~=4.1->azure)\n",
      "  Downloading https://files.pythonhosted.org/packages/3f/4b/8881f8446853dfe3d404468689edcff33c0e2bf62ac2ddf31d08d739fadc/azure_common-1.1.24-py2.py3-none-any.whl\n",
      "Collecting azure-storage-common~=1.4 (from azure-storage-file~=1.3->azure)\n",
      "\u001b[?25l  Downloading https://files.pythonhosted.org/packages/05/6c/b2285bf3687768dbf61b6bc085b0c1be2893b6e2757a9d023263764177f3/azure_storage_common-1.4.2-py2.py3-none-any.whl (47kB)\n",
      "\u001b[K     |████████████████████████████████| 51kB 19.4MB/s eta 0:00:01\n",
      "\u001b[?25hRequirement already satisfied: requests>=2.20.0 in /anaconda3/lib/python3.7/site-packages (from azure-datalake-store~=0.0.18->azure) (2.22.0)\n",
      "Collecting adal>=0.4.2 (from azure-datalake-store~=0.0.18->azure)\n",
      "\u001b[?25l  Downloading https://files.pythonhosted.org/packages/4f/b5/3ea9ae3d1096b9ff31e8f1846c47d49f3129a12464ac0a73b602de458298/adal-1.2.2-py2.py3-none-any.whl (53kB)\n",
      "\u001b[K     |████████████████████████████████| 61kB 19.6MB/s eta 0:00:01\n",
      "\u001b[?25hRequirement already satisfied: cffi in /anaconda3/lib/python3.7/site-packages (from azure-datalake-store~=0.0.18->azure) (1.12.3)\n",
      "Collecting msrest>=0.5.0 (from azure-eventgrid~=1.1->azure)\n",
      "\u001b[?25l  Downloading https://files.pythonhosted.org/packages/f1/fe/a6786f141181a8f0579e4d7ed048812b1c395a6c265a46fc478be03ff4c1/msrest-0.6.11-py2.py3-none-any.whl (83kB)\n",
      "\u001b[K     |████████████████████████████████| 92kB 15.8MB/s eta 0:00:01\n",
      "\u001b[?25hRequirement already satisfied: cryptography>=2.1.4 in /anaconda3/lib/python3.7/site-packages (from azure-keyvault~=1.0->azure) (2.7)\n",
      "Requirement already satisfied: python-dateutil in /anaconda3/lib/python3.7/site-packages (from azure-cosmosdb-table~=1.0->azure) (2.8.0)\n",
      "Collecting azure-cosmosdb-nspkg>=2.0.0 (from azure-cosmosdb-table~=1.0->azure)\n",
      "  Downloading https://files.pythonhosted.org/packages/58/0d/1329b47e5386b0acf4e42ada2284851eff60ef3337a87e5b2dfedabbfcb1/azure_cosmosdb_nspkg-2.0.2-py2.py3-none-any.whl\n",
      "Collecting azure-mgmt-machinelearningcompute~=0.4.1 (from azure-mgmt~=4.0->azure)\n",
      "  Downloading https://files.pythonhosted.org/packages/b4/9c/f8eb81b307df4465809b182f2fe44c288eeb41c0ab54f91b61ac554998a9/azure_mgmt_machinelearningcompute-0.4.1-py2.py3-none-any.whl\n",
      "Collecting azure-mgmt-eventgrid~=1.0 (from azure-mgmt~=4.0->azure)\n",
      "\u001b[?25l  Downloading https://files.pythonhosted.org/packages/54/5b/e91e616021ae9be0019c9c19cffb92b97d787246ca51cfcc0b0a0c6da77a/azure_mgmt_eventgrid-1.0.0-py2.py3-none-any.whl (51kB)\n",
      "\u001b[K     |████████████████████████████████| 61kB 25.7MB/s eta 0:00:01\n",
      "\u001b[?25hCollecting azure-mgmt-billing~=0.2.0 (from azure-mgmt~=4.0->azure)\n",
      "  Downloading https://files.pythonhosted.org/packages/0f/24/5106287ea0f6562d965afb055e3c6c0da058f7844a70464e67bab56c6c4b/azure_mgmt_billing-0.2.0-py2.py3-none-any.whl\n",
      "Collecting azure-mgmt-web~=0.35.0 (from azure-mgmt~=4.0->azure)\n",
      "\u001b[?25l  Downloading https://files.pythonhosted.org/packages/21/04/3f2622720664c972d927fd9e58c0066e998739b7891649207765be674126/azure_mgmt_web-0.35.0-py2.py3-none-any.whl (358kB)\n",
      "\u001b[K     |████████████████████████████████| 368kB 13.0MB/s eta 0:00:01\n",
      "\u001b[?25hCollecting azure-mgmt-iothub~=0.5.0 (from azure-mgmt~=4.0->azure)\n",
      "\u001b[?25l  Downloading https://files.pythonhosted.org/packages/19/d6/b422df467b3d7f4e2975b590fbf6e12aaae0a497c7d080b4955a6a6d794a/azure_mgmt_iothub-0.5.0-py2.py3-none-any.whl (102kB)\n"
     ]
    },
    {
     "name": "stdout",
     "output_type": "stream",
     "text": [
      "\u001b[K     |████████████████████████████████| 112kB 2.7MB/s eta 0:00:01\n",
      "\u001b[?25hCollecting azure-mgmt-devspaces~=0.1.0 (from azure-mgmt~=4.0->azure)\n",
      "  Downloading https://files.pythonhosted.org/packages/f4/d3/ff9c39578f24fb4bd158a882788c7795b177cf3f23ce7cf1d8b52066a64e/azure_mgmt_devspaces-0.1.0-py2.py3-none-any.whl\n",
      "Collecting azure-mgmt-advisor~=1.0 (from azure-mgmt~=4.0->azure)\n",
      "  Downloading https://files.pythonhosted.org/packages/cb/f3/a86ba3e0784d12c8fe5cbf1f24e1b9255575a2f0892e08c46cddd0795dfd/azure_mgmt_advisor-1.0.1-py2.py3-none-any.whl\n",
      "Collecting azure-mgmt-maps~=0.1.0 (from azure-mgmt~=4.0->azure)\n",
      "  Downloading https://files.pythonhosted.org/packages/e4/04/c64326729e842f3eab1fd527f7582e269e4b0e5b9324a4562edaf0371953/azure_mgmt_maps-0.1.0-py2.py3-none-any.whl\n",
      "Collecting azure-mgmt-batchai~=2.0 (from azure-mgmt~=4.0->azure)\n",
      "\u001b[?25l  Downloading https://files.pythonhosted.org/packages/d9/a5/ab796c2a490155c14f9ac4240724ca5c56723315d4dc753030712e6f2e80/azure_mgmt_batchai-2.0.0-py2.py3-none-any.whl (174kB)\n",
      "\u001b[K     |████████████████████████████████| 184kB 16.7MB/s eta 0:00:01\n",
      "\u001b[?25hCollecting azure-mgmt-policyinsights~=0.1.0 (from azure-mgmt~=4.0->azure)\n",
      "\u001b[?25l  Downloading https://files.pythonhosted.org/packages/19/84/7021951ae69572a19af0ff9cca1d2abf3542d35af38796656ded1be08358/azure_mgmt_policyinsights-0.1.0-py2.py3-none-any.whl (44kB)\n",
      "\u001b[K     |████████████████████████████████| 51kB 17.9MB/s eta 0:00:01\n",
      "\u001b[?25hCollecting azure-mgmt-managementpartner~=0.1.0 (from azure-mgmt~=4.0->azure)\n",
      "  Downloading https://files.pythonhosted.org/packages/9a/91/2bccd2bdca4158a7b6169538b25e22e0b4f8ff835754888aab45ffbd0448/azure_mgmt_managementpartner-0.1.1-py2.py3-none-any.whl\n",
      "Collecting azure-mgmt-reservations~=0.2.1 (from azure-mgmt~=4.0->azure)\n",
      "\u001b[?25l  Downloading https://files.pythonhosted.org/packages/a9/2b/e0edb8dbe85e447005cde508b869e564f58270f631219f036d8ab71184f9/azure_mgmt_reservations-0.2.1-py2.py3-none-any.whl (50kB)\n",
      "\u001b[K     |████████████████████████████████| 51kB 11.5MB/s eta 0:00:01\n",
      "\u001b[?25hCollecting azure-mgmt-resource~=2.0 (from azure-mgmt~=4.0->azure)\n",
      "\u001b[?25l  Downloading https://files.pythonhosted.org/packages/1b/2d/9c3f2c9bf6e19f3efe4ddcaa946ea515d5229f4c0b387e224267e77fb73b/azure_mgmt_resource-2.2.0-py2.py3-none-any.whl (780kB)\n",
      "\u001b[K     |████████████████████████████████| 788kB 11.4MB/s eta 0:00:01\n",
      "\u001b[?25hCollecting azure-mgmt-applicationinsights~=0.1.1 (from azure-mgmt~=4.0->azure)\n",
      "\u001b[?25l  Downloading https://files.pythonhosted.org/packages/30/61/1d95a5ef3a9119a0d375d8670129375515de20e20409612e9671c99bd19f/azure_mgmt_applicationinsights-0.1.1-py2.py3-none-any.whl (42kB)\n",
      "\u001b[K     |████████████████████████████████| 51kB 27.7MB/s eta 0:00:01\n",
      "\u001b[?25hCollecting azure-mgmt-cdn~=3.0 (from azure-mgmt~=4.0->azure)\n",
      "\u001b[?25l  Downloading https://files.pythonhosted.org/packages/97/bf/c41e8985b4ffaaad2baaded1fb7b113433ae2d30d65c1a8c226e72284b72/azure_mgmt_cdn-3.1.0-py2.py3-none-any.whl (119kB)\n",
      "\u001b[K     |████████████████████████████████| 122kB 12.8MB/s eta 0:00:01\n",
      "\u001b[?25hCollecting azure-mgmt-eventhub~=2.1 (from azure-mgmt~=4.0->azure)\n",
      "\u001b[?25l  Downloading https://files.pythonhosted.org/packages/5a/cb/3822bcfa815f894c86a27845ae4160c0169722598399234cd6f77bb82347/azure_mgmt_eventhub-2.6.0-py2.py3-none-any.whl (189kB)\n",
      "\u001b[K     |████████████████████████████████| 194kB 8.1MB/s eta 0:00:01\n",
      "\u001b[?25hCollecting azure-mgmt-redis~=5.0 (from azure-mgmt~=4.0->azure)\n",
      "\u001b[?25l  Downloading https://files.pythonhosted.org/packages/90/a7/42342a984b2916972c5c5e24df94e3cd5e4377a8dc465a83415706d9be6f/azure_mgmt_redis-5.0.0-py2.py3-none-any.whl (43kB)\n",
      "\u001b[K     |████████████████████████████████| 51kB 24.1MB/s eta 0:00:01\n",
      "\u001b[?25hCollecting azure-mgmt-consumption~=2.0 (from azure-mgmt~=4.0->azure)\n",
      "\u001b[?25l  Downloading https://files.pythonhosted.org/packages/11/f4/2db9557494dfb17ff3edeae5726981143a7baace17df3712b189e343bd8c/azure_mgmt_consumption-2.0.0-py2.py3-none-any.whl (46kB)\n",
      "\u001b[K     |████████████████████████████████| 51kB 17.1MB/s eta 0:00:01\n",
      "\u001b[?25hCollecting azure-mgmt-monitor~=0.5.2 (from azure-mgmt~=4.0->azure)\n",
      "\u001b[?25l  Downloading https://files.pythonhosted.org/packages/6a/3b/a8b95ee25f1c209ad82ad06de39f4efbfb9dc8a8dc5da5a7a48d7897bf3e/azure_mgmt_monitor-0.5.2-py2.py3-none-any.whl (247kB)\n",
      "\u001b[K     |████████████████████████████████| 256kB 13.5MB/s eta 0:00:01\n",
      "\u001b[?25hCollecting azure-mgmt-containerinstance~=1.0 (from azure-mgmt~=4.0->azure)\n",
      "\u001b[?25l  Downloading https://files.pythonhosted.org/packages/fd/d1/d770050f20ad81b80f7eb41f89e1a5d841cf74bf41c7e1ff137c46f28a1e/azure_mgmt_containerinstance-1.5.0-py2.py3-none-any.whl (96kB)\n",
      "\u001b[K     |████████████████████████████████| 102kB 12.0MB/s ta 0:00:01\n",
      "\u001b[?25hCollecting azure-mgmt-compute~=4.0 (from azure-mgmt~=4.0->azure)\n",
      "\u001b[?25l  Downloading https://files.pythonhosted.org/packages/0e/4d/7ac30585c567a8b9fe8294e0e956c6ef48665522ddf8f8c44bf38b700798/azure_mgmt_compute-4.6.2-py2.py3-none-any.whl (3.0MB)\n",
      "\u001b[K     |████████████████████████████████| 3.0MB 11.3MB/s eta 0:00:01\n",
      "\u001b[?25hCollecting azure-mgmt-msi~=0.2.0 (from azure-mgmt~=4.0->azure)\n",
      "  Downloading https://files.pythonhosted.org/packages/ae/95/b451721e38ca0feddce03ee3ce86158e208d0150253bd371207a8df4e9c5/azure_mgmt_msi-0.2.0-py2.py3-none-any.whl\n",
      "Collecting azure-mgmt-notificationhubs~=2.0 (from azure-mgmt~=4.0->azure)\n",
      "\u001b[?25l  Downloading https://files.pythonhosted.org/packages/55/c0/62a0495583dfc44830f711be52cb4a4e116c2f72c89a19b90d654bdafc4a/azure_mgmt_notificationhubs-2.1.0-py2.py3-none-any.whl (76kB)\n",
      "\u001b[K     |████████████████████████████████| 81kB 9.8MB/s  eta 0:00:01\n",
      "\u001b[?25hCollecting azure-mgmt-recoveryservicesbackup~=0.3.0 (from azure-mgmt~=4.0->azure)\n",
      "\u001b[?25l  Downloading https://files.pythonhosted.org/packages/c5/af/13b10d76bc0ff9188c9e5cd9f2726a5745029b76125938491f9abac5399d/azure_mgmt_recoveryservicesbackup-0.3.0-py2.py3-none-any.whl (568kB)\n",
      "\u001b[K     |████████████████████████████████| 573kB 13.9MB/s eta 0:00:01\n",
      "\u001b[?25hCollecting azure-mgmt-containerservice~=4.2 (from azure-mgmt~=4.0->azure)\n",
      "\u001b[?25l  Downloading https://files.pythonhosted.org/packages/5b/2f/0eba2dbd5d3f66c076a66b0020ccfe9c7e78534ac132afaa104c138680c1/azure_mgmt_containerservice-4.4.0-py2.py3-none-any.whl (206kB)\n",
      "\u001b[K     |████████████████████████████████| 215kB 9.6MB/s eta 0:00:01\n",
      "\u001b[?25hCollecting azure-mgmt-network~=2.0 (from azure-mgmt~=4.0->azure)\n",
      "\u001b[?25l  Downloading https://files.pythonhosted.org/packages/61/95/d63833e95406626256893a2f3ef4e5029a168330e3a27817a9f5597c0e6f/azure_mgmt_network-2.7.0-py2.py3-none-any.whl (11.4MB)\n",
      "\u001b[K     |████████████████████████████████| 11.4MB 10.3MB/s eta 0:00:01    |████████████████                | 5.7MB 11.0MB/s eta 0:00:01\n",
      "\u001b[?25hCollecting azure-mgmt-signalr~=0.1.0 (from azure-mgmt~=4.0->azure)\n",
      "\u001b[?25l  Downloading https://files.pythonhosted.org/packages/10/32/379137548a4c6e4dfd15da6b1c476f2b1af52e8d7fe243fdac9ea2064427/azure_mgmt_signalr-0.1.1-py2.py3-none-any.whl (49kB)\n",
      "\u001b[K     |████████████████████████████████| 51kB 7.2MB/s eta 0:00:011\n",
      "\u001b[?25hCollecting azure-mgmt-rdbms~=1.2 (from azure-mgmt~=4.0->azure)\n",
      "\u001b[?25l  Downloading https://files.pythonhosted.org/packages/d2/94/c850c8257d19b08eb6b03154d6fe21938801562b4082d27985f54ebe9de4/azure_mgmt_rdbms-1.9.0-py2.py3-none-any.whl (259kB)\n",
      "\u001b[K     |████████████████████████████████| 266kB 15.7MB/s eta 0:00:01\n",
      "\u001b[?25hCollecting azure-mgmt-trafficmanager~=0.50.0 (from azure-mgmt~=4.0->azure)\n",
      "\u001b[?25l  Downloading https://files.pythonhosted.org/packages/ed/4f/c322d72dc92dde543471bc23f9ac0eb6b9d0dc2441bb5ce938250040e307/azure_mgmt_trafficmanager-0.50.0-py2.py3-none-any.whl (52kB)\n",
      "\u001b[K     |████████████████████████████████| 61kB 21.9MB/s eta 0:00:01\n",
      "\u001b[?25hCollecting azure-mgmt-iotcentral~=0.1.0 (from azure-mgmt~=4.0->azure)\n",
      "  Downloading https://files.pythonhosted.org/packages/58/4e/e2e5f2d545a46ada3705c85c45c12882a443d40f60e1a908c78058e15cf2/azure_mgmt_iotcentral-0.1.0-py2.py3-none-any.whl\n",
      "Collecting azure-mgmt-recoveryservices~=0.3.0 (from azure-mgmt~=4.0->azure)\n",
      "\u001b[?25l  Downloading https://files.pythonhosted.org/packages/fd/7f/80327a27e03473101afb136e872279ad1386adf1bac14a58a9f839cd8352/azure_mgmt_recoveryservices-0.3.0-py2.py3-none-any.whl (70kB)\n",
      "\u001b[K     |████████████████████████████████| 71kB 16.0MB/s eta 0:00:01\n",
      "\u001b[?25hCollecting azure-mgmt-loganalytics~=0.2.0 (from azure-mgmt~=4.0->azure)\n",
      "\u001b[?25l  Downloading https://files.pythonhosted.org/packages/70/40/c9b77bf82916e963aa701fb396673f7ddc4cdab95524b6d2edf927b05630/azure_mgmt_loganalytics-0.2.0-py2.py3-none-any.whl (89kB)\n"
     ]
    },
    {
     "name": "stdout",
     "output_type": "stream",
     "text": [
      "\u001b[K     |████████████████████████████████| 92kB 4.2MB/s eta 0:00:011\n",
      "\u001b[?25hCollecting azure-mgmt-scheduler~=2.0 (from azure-mgmt~=4.0->azure)\n",
      "\u001b[?25l  Downloading https://files.pythonhosted.org/packages/e8/55/f3490698ff622244438e667e0321808e84389e69c5fb77a1d6db869d9bb7/azure_mgmt_scheduler-2.0.0-py2.py3-none-any.whl (67kB)\n",
      "\u001b[K     |████████████████████████████████| 71kB 20.7MB/s eta 0:00:01\n",
      "\u001b[?25hCollecting azure-mgmt-devtestlabs~=2.2 (from azure-mgmt~=4.0->azure)\n",
      "\u001b[?25l  Downloading https://files.pythonhosted.org/packages/2f/93/a64abaede2fc6a52476af8ceab9cedb368c49e948d9385cbe7cd4ce5ffff/azure_mgmt_devtestlabs-2.2.0-py2.py3-none-any.whl (194kB)\n",
      "\u001b[K     |████████████████████████████████| 194kB 13.2MB/s eta 0:00:01\n",
      "\u001b[?25hCollecting azure-mgmt-authorization~=0.50.0 (from azure-mgmt~=4.0->azure)\n",
      "\u001b[?25l  Downloading https://files.pythonhosted.org/packages/6f/17/55b974603c16be89c7a7c16bac57b7bce48527bf1bebc3f116f7215176e6/azure_mgmt_authorization-0.50.0-py2.py3-none-any.whl (81kB)\n",
      "\u001b[K     |████████████████████████████████| 81kB 11.4MB/s eta 0:00:01\n",
      "\u001b[?25hCollecting azure-mgmt-sql~=0.9.1 (from azure-mgmt~=4.0->azure)\n",
      "\u001b[?25l  Downloading https://files.pythonhosted.org/packages/c5/bb/219c76af961e9e6d1f5055d70c3cc06889b91375727a04367149c3aad640/azure_mgmt_sql-0.9.1-py2.py3-none-any.whl (485kB)\n",
      "\u001b[K     |████████████████████████████████| 491kB 13.1MB/s eta 0:00:01\n",
      "\u001b[?25hCollecting azure-mgmt-iothubprovisioningservices~=0.2.0 (from azure-mgmt~=4.0->azure)\n",
      "\u001b[?25l  Downloading https://files.pythonhosted.org/packages/84/ce/3500c731a5c5b31028e662aa41bc45f75301834a0c03adeacfe7ef7bd86e/azure_mgmt_iothubprovisioningservices-0.2.0-py2.py3-none-any.whl (60kB)\n",
      "\u001b[K     |████████████████████████████████| 61kB 17.2MB/s eta 0:00:01\n",
      "\u001b[?25hCollecting azure-mgmt-containerregistry~=2.1 (from azure-mgmt~=4.0->azure)\n",
      "\u001b[?25l  Downloading https://files.pythonhosted.org/packages/97/70/8c2d0509db466678eba16fa2b0a539499f3b351b1f2993126ad843d5be13/azure_mgmt_containerregistry-2.8.0-py2.py3-none-any.whl (718kB)\n",
      "\u001b[K     |████████████████████████████████| 727kB 16.2MB/s eta 0:00:01\n",
      "\u001b[?25hCollecting azure-mgmt-commerce~=1.0 (from azure-mgmt~=4.0->azure)\n",
      "  Downloading https://files.pythonhosted.org/packages/7e/13/f421e77dd1fe3c9657a890f9c085f433fe422f54003ee03e631a8be5c4e7/azure_mgmt_commerce-1.0.1-py2.py3-none-any.whl\n",
      "Collecting azure-mgmt-cognitiveservices~=3.0 (from azure-mgmt~=4.0->azure)\n",
      "\u001b[?25l  Downloading https://files.pythonhosted.org/packages/8d/c8/222ea2f533c6b8f8656f3091101b4c3aa32c162d2a609d07d1ae00172515/azure_mgmt_cognitiveservices-3.0.0-py2.py3-none-any.whl (58kB)\n",
      "\u001b[K     |████████████████████████████████| 61kB 18.7MB/s eta 0:00:01\n",
      "\u001b[?25hCollecting azure-mgmt-servicebus~=0.5.1 (from azure-mgmt~=4.0->azure)\n",
      "\u001b[?25l  Downloading https://files.pythonhosted.org/packages/28/ad/9e90f8bab40a9682410e57ed08a799be113c5e470bec247b099038c6389e/azure_mgmt_servicebus-0.5.3-py2.py3-none-any.whl (112kB)\n",
      "\u001b[K     |████████████████████████████████| 112kB 18.4MB/s eta 0:00:01\n",
      "\u001b[?25hCollecting azure-mgmt-logic~=3.0 (from azure-mgmt~=4.0->azure)\n",
      "\u001b[?25l  Downloading https://files.pythonhosted.org/packages/88/98/693c515e97043520f5cebf1ecae7bf198df100f5f9870b53d4be3bcaa5ce/azure_mgmt_logic-3.0.0-py2.py3-none-any.whl (303kB)\n",
      "\u001b[K     |████████████████████████████████| 307kB 9.1MB/s eta 0:00:01\n",
      "\u001b[?25hCollecting azure-mgmt-subscription~=0.2.0 (from azure-mgmt~=4.0->azure)\n",
      "\u001b[?25l  Downloading https://files.pythonhosted.org/packages/27/72/f63f72d9c27659f96aae287f7ba67c9ba2877213c2c10d8b797e0dee5059/azure_mgmt_subscription-0.2.0-py2.py3-none-any.whl (40kB)\n",
      "\u001b[K     |████████████████████████████████| 40kB 14.1MB/s eta 0:00:01\n",
      "\u001b[?25hCollecting azure-mgmt-batch~=5.0 (from azure-mgmt~=4.0->azure)\n",
      "\u001b[?25l  Downloading https://files.pythonhosted.org/packages/97/81/a9eb3fd2ab070159105b4cfe9640c24410ac8195286729d62bfdf871de94/azure_mgmt_batch-5.0.1-py2.py3-none-any.whl (87kB)\n",
      "\u001b[K     |████████████████████████████████| 92kB 17.8MB/s eta 0:00:01\n",
      "\u001b[?25hCollecting azure-mgmt-managementgroups~=0.1.0 (from azure-mgmt~=4.0->azure)\n",
      "\u001b[?25l  Downloading https://files.pythonhosted.org/packages/f2/50/591adac2a6cd8d77cccd38bdf5d177ad6a2e95b9217daa9a60b5d86de5cd/azure_mgmt_managementgroups-0.1.0-py2.py3-none-any.whl (59kB)\n",
      "\u001b[K     |████████████████████████████████| 61kB 6.9MB/s eta 0:00:011\n",
      "\u001b[?25hCollecting azure-mgmt-relay~=0.1.0 (from azure-mgmt~=4.0->azure)\n",
      "  Downloading https://files.pythonhosted.org/packages/00/f7/f5c72bd19829cfaf9f070ec294c901ad7f98835ba9560fdad652afb1071f/azure_mgmt_relay-0.1.0-py2.py3-none-any.whl\n",
      "Collecting azure-mgmt-datalake-store~=0.5.0 (from azure-mgmt~=4.0->azure)\n",
      "\u001b[?25l  Downloading https://files.pythonhosted.org/packages/ff/ac/5685cd06dc8b245bb6b894815764a14bd62245ba4579b45148682f510fdd/azure_mgmt_datalake_store-0.5.0-py2.py3-none-any.whl (88kB)\n",
      "\u001b[K     |████████████████████████████████| 92kB 19.5MB/s eta 0:00:01\n",
      "\u001b[?25hCollecting azure-mgmt-dns~=2.0 (from azure-mgmt~=4.0->azure)\n",
      "\u001b[?25l  Downloading https://files.pythonhosted.org/packages/c7/d7/0f986a64b06db93cf29b76f9a188f5778eb959624a00ed6aedc335ee58d2/azure_mgmt_dns-2.1.0-py2.py3-none-any.whl (134kB)\n",
      "\u001b[K     |████████████████████████████████| 143kB 13.2MB/s eta 0:00:01\n",
      "\u001b[?25hCollecting azure-mgmt-datamigration~=1.0 (from azure-mgmt~=4.0->azure)\n",
      "\u001b[?25l  Downloading https://files.pythonhosted.org/packages/8b/4f/7b149487e77d94e701288e1d0b066a7d522bdfe8595e992b5d39dfb00f80/azure_mgmt_datamigration-1.0.0-py2.py3-none-any.whl (185kB)\n",
      "\u001b[K     |████████████████████████████████| 194kB 4.0MB/s eta 0:00:01\n",
      "\u001b[?25hCollecting azure-mgmt-keyvault~=1.0 (from azure-mgmt~=4.0->azure)\n",
      "\u001b[?25l  Downloading https://files.pythonhosted.org/packages/49/de/0d69aedae7c5f6428314640b65947203ab80409c12b5d4e66fb5b7a4182e/azure_mgmt_keyvault-1.1.0-py2.py3-none-any.whl (111kB)\n",
      "\u001b[K     |████████████████████████████████| 112kB 16.9MB/s eta 0:00:01\n",
      "\u001b[?25hCollecting azure-mgmt-servicefabric~=0.2.0 (from azure-mgmt~=4.0->azure)\n",
      "\u001b[?25l  Downloading https://files.pythonhosted.org/packages/6e/06/fafe8b5d881cfa68927e61557c8419dcfacb93e07f4ab17cc60959707a53/azure_mgmt_servicefabric-0.2.0-py2.py3-none-any.whl (142kB)\n",
      "\u001b[K     |████████████████████████████████| 143kB 17.8MB/s eta 0:00:01\n",
      "\u001b[?25hCollecting azure-mgmt-marketplaceordering~=0.1.0 (from azure-mgmt~=4.0->azure)\n",
      "  Downloading https://files.pythonhosted.org/packages/a8/cb/13502fdbaf520d08fb280eb31ecfe5d926b9cf92259c22280bbde96b307d/azure_mgmt_marketplaceordering-0.1.0-py2.py3-none-any.whl\n",
      "Collecting azure-mgmt-powerbiembedded~=2.0 (from azure-mgmt~=4.0->azure)\n",
      "  Downloading https://files.pythonhosted.org/packages/64/2b/5a69d118626a83055ce577fb6ba35c114e72f0273d0c4d943b909ee8d51e/azure_mgmt_powerbiembedded-2.0.0-py2.py3-none-any.whl\n",
      "Collecting azure-mgmt-media~=1.0.0rc2 (from azure-mgmt~=4.0->azure)\n",
      "\u001b[?25l  Downloading https://files.pythonhosted.org/packages/65/2e/6d9649bd5645ac32a179adfea5707f640fc51a57e493c27f0ab575789e85/azure_mgmt_media-1.0.0-py2.py3-none-any.whl (335kB)\n",
      "\u001b[K     |████████████████████████████████| 337kB 17.4MB/s eta 0:00:01    |███                             | 30kB 35.1MB/s eta 0:00:01\n",
      "\u001b[?25hCollecting azure-mgmt-hanaonazure~=0.1.1 (from azure-mgmt~=4.0->azure)\n",
      "  Downloading https://files.pythonhosted.org/packages/f3/1b/50d300ae02158ab092f923132050b56c148f1b784c7b594d3275d4449769/azure_mgmt_hanaonazure-0.1.1-py2.py3-none-any.whl\n",
      "Collecting azure-mgmt-search~=2.0 (from azure-mgmt~=4.0->azure)\n",
      "\u001b[?25l  Downloading https://files.pythonhosted.org/packages/c9/18/fa4e0d541332c0ba6ef16beaa9b55f831436949e7d0981d5677dff2ddfb5/azure_mgmt_search-2.1.0-py2.py3-none-any.whl (41kB)\n",
      "\u001b[K     |████████████████████████████████| 51kB 23.0MB/s eta 0:00:01\n",
      "\u001b[?25hCollecting azure-mgmt-datalake-analytics~=0.6.0 (from azure-mgmt~=4.0->azure)\n",
      "\u001b[?25l  Downloading https://files.pythonhosted.org/packages/73/e7/5d909ef5812fc31f2871f3510ef43af93157ba51be03b6f798afba7a29d8/azure_mgmt_datalake_analytics-0.6.0-py2.py3-none-any.whl (288kB)\n",
      "\u001b[K     |████████████████████████████████| 296kB 15.7MB/s eta 0:00:01\n",
      "\u001b[?25hCollecting azure-mgmt-storage~=2.0 (from azure-mgmt~=4.0->azure)\n",
      "\u001b[?25l  Downloading https://files.pythonhosted.org/packages/67/5b/15e6a8109af53e4c2228142ea816532036700757d035fc1b9cd0f6a63b02/azure_mgmt_storage-2.0.0-py2.py3-none-any.whl (558kB)\n"
     ]
    },
    {
     "name": "stdout",
     "output_type": "stream",
     "text": [
      "\u001b[K     |████████████████████████████████| 563kB 11.3MB/s eta 0:00:01\n",
      "\u001b[?25hCollecting azure-mgmt-cosmosdb~=0.4.1 (from azure-mgmt~=4.0->azure)\n",
      "\u001b[?25l  Downloading https://files.pythonhosted.org/packages/17/ed/d97a04c8c26e2432f2cf000b711daeb053e1cfbdb046bd5d070c941b4fcb/azure_mgmt_cosmosdb-0.4.1-py2.py3-none-any.whl (100kB)\n",
      "\u001b[K     |████████████████████████████████| 102kB 3.4MB/s ta 0:00:011\n",
      "\u001b[?25hCollecting azure-mgmt-datafactory~=0.6.0 (from azure-mgmt~=4.0->azure)\n",
      "\u001b[?25l  Downloading https://files.pythonhosted.org/packages/cf/01/32a6ad5ad348d965f7c106d819a1f6dc613f6aa98a720ffc529ef468016b/azure_mgmt_datafactory-0.6.0-py2.py3-none-any.whl (418kB)\n",
      "\u001b[K     |████████████████████████████████| 419kB 9.3MB/s eta 0:00:01\n",
      "\u001b[?25hRequirement already satisfied: urllib3!=1.25.0,!=1.25.1,<1.26,>=1.21.1 in /anaconda3/lib/python3.7/site-packages (from requests>=2.20.0->azure-datalake-store~=0.0.18->azure) (1.24.2)\n",
      "Requirement already satisfied: certifi>=2017.4.17 in /anaconda3/lib/python3.7/site-packages (from requests>=2.20.0->azure-datalake-store~=0.0.18->azure) (2019.9.11)\n",
      "Requirement already satisfied: chardet<3.1.0,>=3.0.2 in /anaconda3/lib/python3.7/site-packages (from requests>=2.20.0->azure-datalake-store~=0.0.18->azure) (3.0.4)\n",
      "Requirement already satisfied: idna<2.9,>=2.5 in /anaconda3/lib/python3.7/site-packages (from requests>=2.20.0->azure-datalake-store~=0.0.18->azure) (2.8)\n",
      "Collecting PyJWT>=1.0.0 (from adal>=0.4.2->azure-datalake-store~=0.0.18->azure)\n",
      "  Downloading https://files.pythonhosted.org/packages/87/8b/6a9f14b5f781697e51259d81657e6048fd31a113229cf346880bb7545565/PyJWT-1.7.1-py2.py3-none-any.whl\n",
      "Requirement already satisfied: pycparser in /anaconda3/lib/python3.7/site-packages (from cffi->azure-datalake-store~=0.0.18->azure) (2.19)\n",
      "Collecting isodate>=0.6.0 (from msrest>=0.5.0->azure-eventgrid~=1.1->azure)\n",
      "\u001b[?25l  Downloading https://files.pythonhosted.org/packages/9b/9f/b36f7774ff5ea8e428fdcfc4bb332c39ee5b9362ddd3d40d9516a55221b2/isodate-0.6.0-py2.py3-none-any.whl (45kB)\n",
      "\u001b[K     |████████████████████████████████| 51kB 9.1MB/s  eta 0:00:01\n",
      "\u001b[?25hRequirement already satisfied: requests-oauthlib>=0.5.0 in /anaconda3/lib/python3.7/site-packages (from msrest>=0.5.0->azure-eventgrid~=1.1->azure) (1.3.0)\n",
      "Requirement already satisfied: six>=1.4.1 in /anaconda3/lib/python3.7/site-packages (from cryptography>=2.1.4->azure-keyvault~=1.0->azure) (1.12.0)\n",
      "Requirement already satisfied: asn1crypto>=0.21.0 in /anaconda3/lib/python3.7/site-packages (from cryptography>=2.1.4->azure-keyvault~=1.0->azure) (0.24.0)\n",
      "Collecting azure-mgmt-nspkg>=2.0.0 (from azure-mgmt-machinelearningcompute~=0.4.1->azure-mgmt~=4.0->azure)\n",
      "  Downloading https://files.pythonhosted.org/packages/b3/c2/af4b47845f27dc7d206ed4908b9e580f8bc94a4b2f3956a0d87c40719d90/azure_mgmt_nspkg-3.0.2-py3-none-any.whl\n",
      "Collecting azure-mgmt-datalake-nspkg>=2.0.0 (from azure-mgmt-datalake-store~=0.5.0->azure-mgmt~=4.0->azure)\n",
      "  Downloading https://files.pythonhosted.org/packages/48/3d/c65a520d93448923a96784582a0deafaae096cb37b444ae5d63b57f0562d/azure_mgmt_datalake_nspkg-3.0.1-py3-none-any.whl\n",
      "Requirement already satisfied: oauthlib>=3.0.0 in /anaconda3/lib/python3.7/site-packages (from requests-oauthlib>=0.5.0->msrest>=0.5.0->azure-eventgrid~=1.1->azure) (3.1.0)\n",
      "Installing collected packages: isodate, msrest, PyJWT, adal, msrestazure, azure-nspkg, azure-common, azure-batch, azure-storage-common, azure-storage-file, azure-datalake-store, azure-servicemanagement-legacy, azure-eventgrid, azure-storage-queue, azure-servicebus, azure-graphrbac, azure-keyvault, azure-loganalytics, azure-storage-blob, azure-cosmosdb-nspkg, azure-cosmosdb-table, azure-mgmt-nspkg, azure-mgmt-machinelearningcompute, azure-mgmt-eventgrid, azure-mgmt-billing, azure-mgmt-web, azure-mgmt-iothub, azure-mgmt-devspaces, azure-mgmt-advisor, azure-mgmt-maps, azure-mgmt-batchai, azure-mgmt-policyinsights, azure-mgmt-managementpartner, azure-mgmt-reservations, azure-mgmt-resource, azure-mgmt-applicationinsights, azure-mgmt-cdn, azure-mgmt-eventhub, azure-mgmt-redis, azure-mgmt-consumption, azure-mgmt-monitor, azure-mgmt-containerinstance, azure-mgmt-compute, azure-mgmt-msi, azure-mgmt-notificationhubs, azure-mgmt-recoveryservicesbackup, azure-mgmt-containerservice, azure-mgmt-network, azure-mgmt-signalr, azure-mgmt-rdbms, azure-mgmt-trafficmanager, azure-mgmt-iotcentral, azure-mgmt-recoveryservices, azure-mgmt-loganalytics, azure-mgmt-scheduler, azure-mgmt-devtestlabs, azure-mgmt-authorization, azure-mgmt-sql, azure-mgmt-iothubprovisioningservices, azure-mgmt-containerregistry, azure-mgmt-commerce, azure-mgmt-cognitiveservices, azure-mgmt-servicebus, azure-mgmt-logic, azure-mgmt-subscription, azure-mgmt-batch, azure-mgmt-managementgroups, azure-mgmt-relay, azure-mgmt-datalake-nspkg, azure-mgmt-datalake-store, azure-mgmt-dns, azure-mgmt-datamigration, azure-mgmt-keyvault, azure-mgmt-servicefabric, azure-mgmt-marketplaceordering, azure-mgmt-powerbiembedded, azure-mgmt-media, azure-mgmt-hanaonazure, azure-mgmt-search, azure-mgmt-datalake-analytics, azure-mgmt-storage, azure-mgmt-cosmosdb, azure-mgmt-datafactory, azure-mgmt, azure-servicefabric, azure-applicationinsights, azure\n",
      "^C\n"
     ]
    }
   ],
   "source": [
    "# I'll install this using PIP, the package installer for Python.\n",
    "# This is a bash command, but I can run this in the notebook by\n",
    "# prefixing the command with a '!' (\"bang\"):\n",
    "\n",
    "!pip install azure"
   ]
  },
  {
   "cell_type": "markdown",
   "metadata": {},
   "source": [
    "Now I can import the library:"
   ]
  },
  {
   "cell_type": "code",
   "execution_count": 4,
   "metadata": {},
   "outputs": [],
   "source": [
    "import azure"
   ]
  },
  {
   "cell_type": "markdown",
   "metadata": {},
   "source": [
    "Many packages have standard import aliases. We effect this aliasing by using the Python keyword `as`. For numpy, the standard alias is `np`."
   ]
  },
  {
   "cell_type": "code",
   "execution_count": 6,
   "metadata": {},
   "outputs": [
    {
     "name": "stdout",
     "output_type": "stream",
     "text": [
      "[1 2 3]\n"
     ]
    },
    {
     "data": {
      "text/plain": [
       "numpy.ndarray"
      ]
     },
     "execution_count": 6,
     "metadata": {},
     "output_type": "execute_result"
    }
   ],
   "source": [
    "import numpy as np\n",
    "\n",
    "x = np.array([1,2,3])\n",
    "print(x)\n",
    "type(x)"
   ]
  },
  {
   "cell_type": "markdown",
   "metadata": {},
   "source": [
    "Of course we could use any alias we like, including Python keywords! But if we did this, we'd overwrite the meaning of those keywords."
   ]
  },
  {
   "cell_type": "markdown",
   "metadata": {},
   "source": [
    "## 2. NumPy versus base Python\n",
    "\n",
    "Now that we know libraries exist, why do we want to use them? Let us examine a comparison between base Python and Numpy.\n",
    "\n",
    "Python has lists and normal python can do basic math. NumPy, however, has the helpful objects called arrays.\n",
    "\n",
    "Numpy has a few advantages over base Python which we will look at."
   ]
  },
  {
   "cell_type": "code",
   "execution_count": 7,
   "metadata": {},
   "outputs": [
    {
     "name": "stdout",
     "output_type": "stream",
     "text": [
      "['Bob', 'John', 'Sally']\n",
      "['Bob' 'John' 'Sally']\n"
     ]
    }
   ],
   "source": [
    "names_list = ['Bob', 'John', 'Sally']\n",
    "\n",
    "#use numpy.array for numbers and numpy.char.array for strings\n",
    "\n",
    "names_array = numpy.char.array(['Bob','John','Sally'])\n",
    "\n",
    "print(names_list)\n",
    "print(names_array)"
   ]
  },
  {
   "cell_type": "code",
   "execution_count": 11,
   "metadata": {},
   "outputs": [],
   "source": [
    "# Make a list and an array of three numbers\n",
    "\n",
    "#your code here\n"
   ]
  },
  {
   "cell_type": "code",
   "execution_count": 12,
   "metadata": {},
   "outputs": [],
   "source": [
    "# multiply your array by 3\n"
   ]
  },
  {
   "cell_type": "code",
   "execution_count": 13,
   "metadata": {},
   "outputs": [],
   "source": [
    "# multiply your list by 3\n",
    "\n"
   ]
  },
  {
   "cell_type": "markdown",
   "metadata": {},
   "source": [
    "Numpy arrays support the _div_ operator while python lists do not. There are other things that make it useful to utilize numpy over base python for evaluating data.\n",
    "\n",
    "Below, you will find a piece of code we will use to compare the speed of operations on a list and operations on an array."
   ]
  },
  {
   "cell_type": "code",
   "execution_count": 14,
   "metadata": {},
   "outputs": [],
   "source": [
    "size_of_vec = 1000\n",
    "\n",
    "X = range(size_of_vec)\n",
    "Y = range(size_of_vec)"
   ]
  },
  {
   "cell_type": "code",
   "execution_count": 15,
   "metadata": {},
   "outputs": [
    {
     "name": "stdout",
     "output_type": "stream",
     "text": [
      "198 µs ± 1.4 µs per loop (mean ± std. dev. of 7 runs, 1000 loops each)\n"
     ]
    }
   ],
   "source": [
    "%timeit [X[i] + Y[i] for i in range(len(X))]"
   ]
  },
  {
   "cell_type": "code",
   "execution_count": 16,
   "metadata": {},
   "outputs": [],
   "source": [
    "X = np.arange(size_of_vec)\n",
    "Y = np.arange(size_of_vec)"
   ]
  },
  {
   "cell_type": "code",
   "execution_count": 17,
   "metadata": {},
   "outputs": [
    {
     "name": "stdout",
     "output_type": "stream",
     "text": [
      "882 ns ± 94.3 ns per loop (mean ± std. dev. of 7 runs, 1000000 loops each)\n"
     ]
    }
   ],
   "source": [
    "%timeit X + Y"
   ]
  },
  {
   "cell_type": "markdown",
   "metadata": {},
   "source": [
    "## 3. What Else Can Numpy Do?"
   ]
  },
  {
   "cell_type": "markdown",
   "metadata": {},
   "source": [
    "Type `numbers_list.` and then hit `TAB`. What options do you have?"
   ]
  },
  {
   "cell_type": "code",
   "execution_count": 21,
   "metadata": {},
   "outputs": [],
   "source": [
    "numbers_list."
   ]
  },
  {
   "cell_type": "markdown",
   "metadata": {},
   "source": [
    "The names of standard Python list attributes and methods appear:\n",
    "\n",
    "- `append(x)` (add x to the end of the list)\n",
    "- `clear()` (delete all elements of the list)\n",
    "- `copy()` (make a copy of the list)\n",
    "- `count(x)` (return the number of instances of x in the list)\n",
    "- `extend([x, y])` (add x and y to the end of the list)\n",
    "- `index(x)` (return the position in the list of x)\n",
    "- `insert(x, y)` (insert y into position x in the list)\n",
    "- `pop(i=-1)` (remove and return the element at position i in the list)\n",
    "- `remove(x)` (remove x from the list)\n",
    "- `reverse()` (reverse the order of the elements of the list)\n",
    "- `sort()` (sort the elements of the list)"
   ]
  },
  {
   "cell_type": "markdown",
   "metadata": {},
   "source": [
    "Now type `numbers_array.` and then hit `TAB`. What options do you have?"
   ]
  },
  {
   "cell_type": "code",
   "execution_count": 24,
   "metadata": {},
   "outputs": [
    {
     "data": {
      "text/plain": [
       "3"
      ]
     },
     "execution_count": 24,
     "metadata": {},
     "output_type": "execute_result"
    }
   ],
   "source": [
    "numbers_array."
   ]
  },
  {
   "cell_type": "markdown",
   "metadata": {},
   "source": [
    "Now there are many new options!\n",
    "\n",
    "Exercise: Write down quick one-liners to describe what these methods do:\n",
    "\n",
    "\n",
    "- `max()`\n",
    "- `mean()`\n",
    "- `min()`\n",
    "- `round()`\n",
    "- `std()`\n",
    "- `sum()`"
   ]
  },
  {
   "cell_type": "markdown",
   "metadata": {},
   "source": [
    "### Better Math Tools"
   ]
  },
  {
   "cell_type": "markdown",
   "metadata": {},
   "source": [
    "#### Trigonometry:\n",
    "- `np.pi` for $\\pi$"
   ]
  },
  {
   "cell_type": "code",
   "execution_count": 25,
   "metadata": {},
   "outputs": [
    {
     "data": {
      "text/plain": [
       "3.141592653589793"
      ]
     },
     "execution_count": 25,
     "metadata": {},
     "output_type": "execute_result"
    }
   ],
   "source": [
    "np.pi"
   ]
  },
  {
   "cell_type": "markdown",
   "metadata": {},
   "source": [
    "- `np.sin()` for the sine function"
   ]
  },
  {
   "cell_type": "code",
   "execution_count": 26,
   "metadata": {},
   "outputs": [
    {
     "data": {
      "text/plain": [
       "0.49999999999999994"
      ]
     },
     "execution_count": 26,
     "metadata": {},
     "output_type": "execute_result"
    }
   ],
   "source": [
    "np.sin(np.pi / 6)"
   ]
  },
  {
   "cell_type": "markdown",
   "metadata": {},
   "source": [
    "- `np.cos()` for the cosine function\n",
    "- `np.tan()` for the tangent function\n",
    "- `np.sinh()` for the hyperbolic sine function\n",
    "- `np.cosh()` for the hyperbolic cosine function\n",
    "- `np.tanh()` for the hyperbolic tangent function"
   ]
  },
  {
   "cell_type": "markdown",
   "metadata": {},
   "source": [
    "#### Number Theory:\n",
    "- `np.binary_repr()` to convert from decimal to binary"
   ]
  },
  {
   "cell_type": "code",
   "execution_count": 27,
   "metadata": {},
   "outputs": [
    {
     "data": {
      "text/plain": [
       "'1010'"
      ]
     },
     "execution_count": 27,
     "metadata": {},
     "output_type": "execute_result"
    }
   ],
   "source": [
    "np.binary_repr(10)"
   ]
  },
  {
   "cell_type": "markdown",
   "metadata": {},
   "source": [
    "- `np.diff()` to calculate, recursively, the differences between sequence terms"
   ]
  },
  {
   "cell_type": "code",
   "execution_count": 28,
   "metadata": {},
   "outputs": [
    {
     "data": {
      "text/plain": [
       "array([3, 5, 7])"
      ]
     },
     "execution_count": 28,
     "metadata": {},
     "output_type": "execute_result"
    }
   ],
   "source": [
    "np.diff([1, 4, 9, 16])"
   ]
  },
  {
   "cell_type": "code",
   "execution_count": 29,
   "metadata": {},
   "outputs": [
    {
     "data": {
      "text/plain": [
       "array([2, 2])"
      ]
     },
     "execution_count": 29,
     "metadata": {},
     "output_type": "execute_result"
    }
   ],
   "source": [
    "np.diff([1, 4, 9, 16], n=2)"
   ]
  },
  {
   "cell_type": "markdown",
   "metadata": {},
   "source": [
    "- `np.gcd()` for the greatest common divisor"
   ]
  },
  {
   "cell_type": "code",
   "execution_count": 30,
   "metadata": {},
   "outputs": [
    {
     "data": {
      "text/plain": [
       "4"
      ]
     },
     "execution_count": 30,
     "metadata": {},
     "output_type": "execute_result"
    }
   ],
   "source": [
    "np.gcd(8, 100)"
   ]
  },
  {
   "cell_type": "markdown",
   "metadata": {},
   "source": [
    "#### Array Logic:\n",
    "- `np.bitwise_not()`\n",
    "- `np.bitwise_and()`"
   ]
  },
  {
   "cell_type": "code",
   "execution_count": 31,
   "metadata": {},
   "outputs": [
    {
     "data": {
      "text/plain": [
       "array([False, False,  True])"
      ]
     },
     "execution_count": 31,
     "metadata": {},
     "output_type": "execute_result"
    }
   ],
   "source": [
    "np.bitwise_and([True, False, True], [False, True, True])"
   ]
  },
  {
   "cell_type": "markdown",
   "metadata": {},
   "source": [
    "- `np.bitwise_or()`\n",
    "- `np.bitwise_xor()`\n",
    "- `np.concatenate()`"
   ]
  },
  {
   "cell_type": "code",
   "execution_count": 32,
   "metadata": {},
   "outputs": [
    {
     "data": {
      "text/plain": [
       "array([1, 2, 3, 4])"
      ]
     },
     "execution_count": 32,
     "metadata": {},
     "output_type": "execute_result"
    }
   ],
   "source": [
    "np.concatenate([[1, 2], [3, 4]])"
   ]
  },
  {
   "cell_type": "markdown",
   "metadata": {},
   "source": [
    "#### Complex Numbers:\n",
    "- `np.complex()`"
   ]
  },
  {
   "cell_type": "code",
   "execution_count": 33,
   "metadata": {},
   "outputs": [
    {
     "data": {
      "text/plain": [
       "(2-3j)"
      ]
     },
     "execution_count": 33,
     "metadata": {},
     "output_type": "execute_result"
    }
   ],
   "source": [
    "np.complex(2, -3)"
   ]
  },
  {
   "cell_type": "markdown",
   "metadata": {},
   "source": [
    "#### Data Analysis:\n",
    "- `np.histogram()`"
   ]
  },
  {
   "cell_type": "code",
   "execution_count": 34,
   "metadata": {
    "scrolled": true
   },
   "outputs": [
    {
     "data": {
      "text/plain": [
       "(array([1, 0, 0, 0, 0, 0, 0, 0, 0, 1]),\n",
       " array([1. , 1.1, 1.2, 1.3, 1.4, 1.5, 1.6, 1.7, 1.8, 1.9, 2. ]))"
      ]
     },
     "execution_count": 34,
     "metadata": {},
     "output_type": "execute_result"
    }
   ],
   "source": [
    "np.histogram([1, 2])"
   ]
  },
  {
   "cell_type": "markdown",
   "metadata": {},
   "source": [
    "#### Logarithms:\n",
    "- `np.exp()` for Euler's number with exponent"
   ]
  },
  {
   "cell_type": "code",
   "execution_count": 35,
   "metadata": {},
   "outputs": [
    {
     "data": {
      "text/plain": [
       "7.38905609893065"
      ]
     },
     "execution_count": 35,
     "metadata": {},
     "output_type": "execute_result"
    }
   ],
   "source": [
    "np.exp(2)"
   ]
  },
  {
   "cell_type": "markdown",
   "metadata": {},
   "source": [
    "- `np.log()` for logarithms"
   ]
  },
  {
   "cell_type": "code",
   "execution_count": 36,
   "metadata": {},
   "outputs": [
    {
     "data": {
      "text/plain": [
       "2.302585092994046"
      ]
     },
     "execution_count": 36,
     "metadata": {},
     "output_type": "execute_result"
    }
   ],
   "source": [
    "np.log(10)"
   ]
  },
  {
   "cell_type": "markdown",
   "metadata": {},
   "source": [
    "#### Linear Algebra:"
   ]
  },
  {
   "cell_type": "markdown",
   "metadata": {},
   "source": [
    "`np.linalg` is an incredibly useful module for matrix mathematics, which we shall need in future lessons!"
   ]
  },
  {
   "cell_type": "markdown",
   "metadata": {},
   "source": [
    "### More Tools\n",
    "\n",
    "See [here](https://numpy.org/devdocs/user/basics.html) for more information about numpy. Let's go over some of these points:\n",
    "\n",
    "#### [More numeric data types than base Python](https://numpy.org/devdocs/user/basics.types.html)\n",
    "\n",
    "#### Intrinsic array constructors:"
   ]
  },
  {
   "cell_type": "code",
   "execution_count": 37,
   "metadata": {},
   "outputs": [
    {
     "name": "stdout",
     "output_type": "stream",
     "text": [
      "[0. 0. 0. 0. 0. 0. 0. 0. 0. 0.]\n",
      "[1. 1. 1. 1. 1. 1. 1. 1. 1. 1.]\n",
      "[0. 1. 2. 3. 4. 5. 6. 7. 8. 9.]\n",
      "[0.1 0.2 0.3 0.4 0.5 0.6 0.7 0.8 0.9 1. ]\n"
     ]
    }
   ],
   "source": [
    "print(np.zeros(10))\n",
    "print(np.ones(10))\n",
    "print(np.arange(10, dtype=float))\n",
    "print(np.linspace(0.1, 1, 10))"
   ]
  },
  {
   "cell_type": "markdown",
   "metadata": {},
   "source": [
    "#### Multi-dimensional indexing:"
   ]
  },
  {
   "cell_type": "code",
   "execution_count": 38,
   "metadata": {},
   "outputs": [
    {
     "data": {
      "text/plain": [
       "(2, 3)"
      ]
     },
     "execution_count": 38,
     "metadata": {},
     "output_type": "execute_result"
    }
   ],
   "source": [
    "nums = np.array([[1, 2, 3], [4, 5, 6]])\n",
    "nums.shape"
   ]
  },
  {
   "cell_type": "code",
   "execution_count": 39,
   "metadata": {},
   "outputs": [
    {
     "data": {
      "text/plain": [
       "3"
      ]
     },
     "execution_count": 39,
     "metadata": {},
     "output_type": "execute_result"
    }
   ],
   "source": [
    "nums[0, 2]"
   ]
  },
  {
   "cell_type": "markdown",
   "metadata": {},
   "source": [
    "Why is this more efficient than `nums[0][2]`?"
   ]
  },
  {
   "cell_type": "code",
   "execution_count": 40,
   "metadata": {},
   "outputs": [
    {
     "name": "stdout",
     "output_type": "stream",
     "text": [
      "120 ns ± 2.75 ns per loop (mean ± std. dev. of 7 runs, 10000000 loops each)\n"
     ]
    }
   ],
   "source": [
    "%timeit nums[0, 2]"
   ]
  },
  {
   "cell_type": "code",
   "execution_count": 41,
   "metadata": {},
   "outputs": [
    {
     "name": "stdout",
     "output_type": "stream",
     "text": [
      "234 ns ± 4.02 ns per loop (mean ± std. dev. of 7 runs, 1000000 loops each)\n"
     ]
    }
   ],
   "source": [
    "%timeit nums[0][2]"
   ]
  },
  {
   "cell_type": "markdown",
   "metadata": {},
   "source": [
    "#### Filtering:"
   ]
  },
  {
   "cell_type": "code",
   "execution_count": 42,
   "metadata": {},
   "outputs": [],
   "source": [
    "data = np.array([10, 3, 4, 7, 6])"
   ]
  },
  {
   "cell_type": "code",
   "execution_count": 43,
   "metadata": {},
   "outputs": [
    {
     "data": {
      "text/plain": [
       "array([3, 4])"
      ]
     },
     "execution_count": 43,
     "metadata": {},
     "output_type": "execute_result"
    }
   ],
   "source": [
    "data[data < 5]"
   ]
  },
  {
   "cell_type": "markdown",
   "metadata": {},
   "source": [
    "#### Broadcasting:"
   ]
  },
  {
   "cell_type": "code",
   "execution_count": 44,
   "metadata": {},
   "outputs": [],
   "source": [
    "arr1 = np.array([-1, -2, -3])\n",
    "arr2 = -8"
   ]
  },
  {
   "cell_type": "code",
   "execution_count": 45,
   "metadata": {},
   "outputs": [
    {
     "data": {
      "text/plain": [
       "array([ -9, -10, -11])"
      ]
     },
     "execution_count": 45,
     "metadata": {},
     "output_type": "execute_result"
    }
   ],
   "source": [
    "arr1 + arr2"
   ]
  },
  {
   "cell_type": "markdown",
   "metadata": {},
   "source": [
    "Two arrays can be broadcast together if their dimensions have *the same* value or if one of the dimensions has a value of *1*."
   ]
  },
  {
   "cell_type": "code",
   "execution_count": 46,
   "metadata": {},
   "outputs": [],
   "source": [
    "arr3 = np.array([[-10., 3., 175.2], [25., 1.47, 9.36]])\n",
    "arr4 = np.array([5, 5, 5])"
   ]
  },
  {
   "cell_type": "code",
   "execution_count": 47,
   "metadata": {},
   "outputs": [
    {
     "data": {
      "text/plain": [
       "array([[-50.  ,  15.  , 876.  ],\n",
       "       [125.  ,   7.35,  46.8 ]])"
      ]
     },
     "execution_count": 47,
     "metadata": {},
     "output_type": "execute_result"
    }
   ],
   "source": [
    "arr3 * arr4"
   ]
  },
  {
   "cell_type": "markdown",
   "metadata": {},
   "source": [
    "#### np.nan and np.inf\n",
    "\n",
    "NaN stands for \"not a number\". Numpy's np.nan is a handy way of representing these, in part because np.nan *is a float!*"
   ]
  },
  {
   "cell_type": "code",
   "execution_count": 48,
   "metadata": {},
   "outputs": [
    {
     "data": {
      "text/plain": [
       "float"
      ]
     },
     "execution_count": 48,
     "metadata": {},
     "output_type": "execute_result"
    }
   ],
   "source": [
    "type(np.nan)"
   ]
  },
  {
   "cell_type": "markdown",
   "metadata": {},
   "source": [
    "This makes it convenient to perform mathematical operations on arrays that contain NaNs."
   ]
  },
  {
   "cell_type": "code",
   "execution_count": 49,
   "metadata": {},
   "outputs": [],
   "source": [
    "arr5 = np.array([1, 10, np.nan])"
   ]
  },
  {
   "cell_type": "code",
   "execution_count": 50,
   "metadata": {},
   "outputs": [
    {
     "data": {
      "text/plain": [
       "nan"
      ]
     },
     "execution_count": 50,
     "metadata": {},
     "output_type": "execute_result"
    }
   ],
   "source": [
    "arr5.mean()"
   ]
  },
  {
   "cell_type": "markdown",
   "metadata": {},
   "source": [
    "Even though the array has a NaN, we don't get an error in calculating its mean. Moreover, we can do this:"
   ]
  },
  {
   "cell_type": "code",
   "execution_count": 51,
   "metadata": {},
   "outputs": [
    {
     "data": {
      "text/plain": [
       "3.6666666666666665"
      ]
     },
     "execution_count": 51,
     "metadata": {},
     "output_type": "execute_result"
    }
   ],
   "source": [
    "np.nansum(arr5) / len(arr5)"
   ]
  },
  {
   "cell_type": "markdown",
   "metadata": {},
   "source": [
    "And this:"
   ]
  },
  {
   "cell_type": "code",
   "execution_count": 52,
   "metadata": {},
   "outputs": [
    {
     "data": {
      "text/plain": [
       "5.5"
      ]
     },
     "execution_count": 52,
     "metadata": {},
     "output_type": "execute_result"
    }
   ],
   "source": [
    "np.nanmean(arr5)"
   ]
  },
  {
   "cell_type": "code",
   "execution_count": 53,
   "metadata": {},
   "outputs": [
    {
     "data": {
      "text/plain": [
       "inf"
      ]
     },
     "execution_count": 53,
     "metadata": {},
     "output_type": "execute_result"
    }
   ],
   "source": [
    "np.inf"
   ]
  },
  {
   "cell_type": "code",
   "execution_count": 54,
   "metadata": {},
   "outputs": [
    {
     "data": {
      "text/plain": [
       "False"
      ]
     },
     "execution_count": 54,
     "metadata": {},
     "output_type": "execute_result"
    }
   ],
   "source": [
    "np.isfinite(np.inf)"
   ]
  },
  {
   "cell_type": "code",
   "execution_count": 55,
   "metadata": {},
   "outputs": [],
   "source": [
    "def inv(x):\n",
    "    return x**(-2)"
   ]
  },
  {
   "cell_type": "code",
   "execution_count": 56,
   "metadata": {},
   "outputs": [
    {
     "ename": "ZeroDivisionError",
     "evalue": "0.0 cannot be raised to a negative power",
     "output_type": "error",
     "traceback": [
      "\u001b[0;31m---------------------------------------------------------------------------\u001b[0m",
      "\u001b[0;31mZeroDivisionError\u001b[0m                         Traceback (most recent call last)",
      "\u001b[0;32m<ipython-input-56-9b29e54226d9>\u001b[0m in \u001b[0;36m<module>\u001b[0;34m\u001b[0m\n\u001b[0;32m----> 1\u001b[0;31m \u001b[0minv\u001b[0m\u001b[0;34m(\u001b[0m\u001b[0;36m0\u001b[0m\u001b[0;34m)\u001b[0m\u001b[0;34m\u001b[0m\u001b[0;34m\u001b[0m\u001b[0m\n\u001b[0m",
      "\u001b[0;32m<ipython-input-55-7e45c0f9728c>\u001b[0m in \u001b[0;36minv\u001b[0;34m(x)\u001b[0m\n\u001b[1;32m      1\u001b[0m \u001b[0;32mdef\u001b[0m \u001b[0minv\u001b[0m\u001b[0;34m(\u001b[0m\u001b[0mx\u001b[0m\u001b[0;34m)\u001b[0m\u001b[0;34m:\u001b[0m\u001b[0;34m\u001b[0m\u001b[0;34m\u001b[0m\u001b[0m\n\u001b[0;32m----> 2\u001b[0;31m     \u001b[0;32mreturn\u001b[0m \u001b[0mx\u001b[0m\u001b[0;34m**\u001b[0m\u001b[0;34m(\u001b[0m\u001b[0;34m-\u001b[0m\u001b[0;36m2\u001b[0m\u001b[0;34m)\u001b[0m\u001b[0;34m\u001b[0m\u001b[0;34m\u001b[0m\u001b[0m\n\u001b[0m",
      "\u001b[0;31mZeroDivisionError\u001b[0m: 0.0 cannot be raised to a negative power"
     ]
    }
   ],
   "source": [
    "inv(0)"
   ]
  },
  {
   "cell_type": "code",
   "execution_count": 57,
   "metadata": {},
   "outputs": [],
   "source": [
    "def inverse(x):\n",
    "    if x == 0:\n",
    "        val = np.inf\n",
    "    else:\n",
    "        val = x**(-2)\n",
    "    return val"
   ]
  },
  {
   "cell_type": "code",
   "execution_count": 58,
   "metadata": {},
   "outputs": [
    {
     "data": {
      "text/plain": [
       "inf"
      ]
     },
     "execution_count": 58,
     "metadata": {},
     "output_type": "execute_result"
    }
   ],
   "source": [
    "inverse(0)"
   ]
  },
  {
   "cell_type": "markdown",
   "metadata": {},
   "source": [
    "## Exercises"
   ]
  },
  {
   "cell_type": "markdown",
   "metadata": {},
   "source": [
    "1. Write down descriptions of what these methods do:"
   ]
  },
  {
   "cell_type": "markdown",
   "metadata": {},
   "source": [
    "- `all()`\n",
    "- `any()`\n",
    "- `cumprod()`\n",
    "- `cumsum()`\n",
    "- `reshape()`\n",
    "- `shape` --> No parentheses! This is an attribute and not a method."
   ]
  },
  {
   "cell_type": "markdown",
   "metadata": {},
   "source": [
    "2. Calculate the following using numpy:"
   ]
  },
  {
   "cell_type": "markdown",
   "metadata": {},
   "source": [
    "- $\\cos\\left(\\frac{\\pi}{3}\\right)$\n",
    "- $\\cosh\\left(\\frac{\\pi}{3}\\right)$"
   ]
  },
  {
   "cell_type": "code",
   "execution_count": null,
   "metadata": {},
   "outputs": [],
   "source": []
  },
  {
   "cell_type": "markdown",
   "metadata": {},
   "source": [
    "3. Write a function that will return the sum of the first $n$ terms of an array, where the user inputs both $n$ and the array."
   ]
  },
  {
   "cell_type": "code",
   "execution_count": null,
   "metadata": {},
   "outputs": [],
   "source": []
  },
  {
   "cell_type": "markdown",
   "metadata": {},
   "source": [
    "4. Write a function that will return the logarithm of the standard deviation of an input array."
   ]
  },
  {
   "cell_type": "code",
   "execution_count": null,
   "metadata": {},
   "outputs": [],
   "source": []
  },
  {
   "cell_type": "markdown",
   "metadata": {},
   "source": [
    "5. Use numpy to multiply the complex numbers $257 + 134i$ and $987 - 643i$."
   ]
  },
  {
   "cell_type": "code",
   "execution_count": null,
   "metadata": {},
   "outputs": [],
   "source": []
  },
  {
   "cell_type": "markdown",
   "metadata": {},
   "source": [
    "6. **Euler's Formula.** How could we use numpy to test Euler's Formula: $e^{\\pi i} + 1 = 0$?"
   ]
  },
  {
   "cell_type": "code",
   "execution_count": null,
   "metadata": {},
   "outputs": [],
   "source": []
  }
 ],
 "metadata": {
  "kernelspec": {
   "display_name": "Python 3",
   "language": "python",
   "name": "python3"
  },
  "language_info": {
   "codemirror_mode": {
    "name": "ipython",
    "version": 3
   },
   "file_extension": ".py",
   "mimetype": "text/x-python",
   "name": "python",
   "nbconvert_exporter": "python",
   "pygments_lexer": "ipython3",
   "version": "3.7.3"
  }
 },
 "nbformat": 4,
 "nbformat_minor": 2
}
